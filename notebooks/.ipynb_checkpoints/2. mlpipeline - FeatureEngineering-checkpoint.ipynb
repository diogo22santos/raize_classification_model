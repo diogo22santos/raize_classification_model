{
 "cells": [
  {
   "cell_type": "code",
   "execution_count": 1,
   "metadata": {},
   "outputs": [],
   "source": [
    "#to handle datasets\n",
    "import pandas as pd\n",
    "import numpy as np\n",
    "\n",
    "#for plotting\n",
    "#import matplotlib.pyplot as plt\n",
    "#%matplotlib inline\n",
    "\n",
    "#to divide train and test set\n",
    "from sklearn.model_selection import train_test_split\n",
    "\n",
    "# feature scaling\n",
    "from sklearn.preprocessing import MinMaxScaler\n",
    "\n",
    "# for imbalanced datasets\n",
    "from imblearn.over_sampling import RandomOverSampler\n",
    "\n",
    "# to visualise al the columns in the dataframe\n",
    "pd.pandas.set_option('display.max_columns', None)\n",
    "\n",
    "# to ignore warnings\n",
    "import warnings\n",
    "warnings.simplefilter('ignore')"
   ]
  },
  {
   "cell_type": "code",
   "execution_count": 7,
   "metadata": {},
   "outputs": [
    {
     "name": "stdout",
     "output_type": "stream",
     "text": [
      "(1016, 13)\n"
     ]
    },
    {
     "data": {
      "text/html": [
       "<div>\n",
       "<style scoped>\n",
       "    .dataframe tbody tr th:only-of-type {\n",
       "        vertical-align: middle;\n",
       "    }\n",
       "\n",
       "    .dataframe tbody tr th {\n",
       "        vertical-align: top;\n",
       "    }\n",
       "\n",
       "    .dataframe thead th {\n",
       "        text-align: right;\n",
       "    }\n",
       "</style>\n",
       "<table border=\"1\" class=\"dataframe\">\n",
       "  <thead>\n",
       "    <tr style=\"text-align: right;\">\n",
       "      <th></th>\n",
       "      <th># Ordem</th>\n",
       "      <th>Estado</th>\n",
       "      <th>Anos atividade</th>\n",
       "      <th>Região</th>\n",
       "      <th>Receitas</th>\n",
       "      <th>Ativos</th>\n",
       "      <th>Montante</th>\n",
       "      <th>BR</th>\n",
       "      <th>Prazo</th>\n",
       "      <th># pmts pagas</th>\n",
       "      <th>Taxa ind.</th>\n",
       "      <th>Taxa med</th>\n",
       "      <th># ofertas</th>\n",
       "    </tr>\n",
       "  </thead>\n",
       "  <tbody>\n",
       "    <tr>\n",
       "      <th>0</th>\n",
       "      <td>0001</td>\n",
       "      <td>Pago</td>\n",
       "      <td>22</td>\n",
       "      <td>Estremadura e Ribatejo</td>\n",
       "      <td>100,000 - 350,000</td>\n",
       "      <td>100,000 - 350,000</td>\n",
       "      <td>2500</td>\n",
       "      <td>A</td>\n",
       "      <td>6</td>\n",
       "      <td>6.0</td>\n",
       "      <td>0.032</td>\n",
       "      <td>0.034630</td>\n",
       "      <td>31</td>\n",
       "    </tr>\n",
       "    <tr>\n",
       "      <th>1</th>\n",
       "      <td>0002</td>\n",
       "      <td>Incobrável</td>\n",
       "      <td>25</td>\n",
       "      <td>Estremadura e Ribatejo</td>\n",
       "      <td>100,000 - 350,000</td>\n",
       "      <td>500,000-1,500,000</td>\n",
       "      <td>20000</td>\n",
       "      <td>B+</td>\n",
       "      <td>36</td>\n",
       "      <td>25.0</td>\n",
       "      <td>0.049</td>\n",
       "      <td>0.049287</td>\n",
       "      <td>33</td>\n",
       "    </tr>\n",
       "    <tr>\n",
       "      <th>2</th>\n",
       "      <td>0003</td>\n",
       "      <td>Pago</td>\n",
       "      <td>15</td>\n",
       "      <td>Estremadura e Ribatejo</td>\n",
       "      <td>100,000 - 350,000</td>\n",
       "      <td>100,000 - 350,000</td>\n",
       "      <td>10000</td>\n",
       "      <td>B+</td>\n",
       "      <td>24</td>\n",
       "      <td>24.0</td>\n",
       "      <td>0.046</td>\n",
       "      <td>0.048462</td>\n",
       "      <td>46</td>\n",
       "    </tr>\n",
       "    <tr>\n",
       "      <th>3</th>\n",
       "      <td>0004</td>\n",
       "      <td>Pago</td>\n",
       "      <td>13</td>\n",
       "      <td>Estremadura e Ribatejo</td>\n",
       "      <td>100,000 - 350,000</td>\n",
       "      <td>100,000 - 350,000</td>\n",
       "      <td>20000</td>\n",
       "      <td>A</td>\n",
       "      <td>48</td>\n",
       "      <td>48.0</td>\n",
       "      <td>0.042</td>\n",
       "      <td>0.044945</td>\n",
       "      <td>85</td>\n",
       "    </tr>\n",
       "    <tr>\n",
       "      <th>4</th>\n",
       "      <td>0005</td>\n",
       "      <td>Pago</td>\n",
       "      <td>27</td>\n",
       "      <td>Estremadura e Ribatejo</td>\n",
       "      <td>100,000 - 350,000</td>\n",
       "      <td>100,000 - 350,000</td>\n",
       "      <td>5000</td>\n",
       "      <td>C</td>\n",
       "      <td>6</td>\n",
       "      <td>6.0</td>\n",
       "      <td>0.087</td>\n",
       "      <td>0.088742</td>\n",
       "      <td>39</td>\n",
       "    </tr>\n",
       "  </tbody>\n",
       "</table>\n",
       "</div>"
      ],
      "text/plain": [
       "  # Ordem      Estado  Anos atividade                  Região  \\\n",
       "0    0001        Pago              22  Estremadura e Ribatejo   \n",
       "1    0002  Incobrável              25  Estremadura e Ribatejo   \n",
       "2    0003        Pago              15  Estremadura e Ribatejo   \n",
       "3    0004        Pago              13  Estremadura e Ribatejo   \n",
       "4    0005        Pago              27  Estremadura e Ribatejo   \n",
       "\n",
       "            Receitas             Ativos  Montante  BR  Prazo  # pmts pagas  \\\n",
       "0  100,000 - 350,000  100,000 - 350,000      2500   A      6           6.0   \n",
       "1  100,000 - 350,000  500,000-1,500,000     20000  B+     36          25.0   \n",
       "2  100,000 - 350,000  100,000 - 350,000     10000  B+     24          24.0   \n",
       "3  100,000 - 350,000  100,000 - 350,000     20000   A     48          48.0   \n",
       "4  100,000 - 350,000  100,000 - 350,000      5000   C      6           6.0   \n",
       "\n",
       "  Taxa ind.  Taxa med  # ofertas  \n",
       "0     0.032  0.034630         31  \n",
       "1     0.049  0.049287         33  \n",
       "2     0.046  0.048462         46  \n",
       "3     0.042  0.044945         85  \n",
       "4     0.087  0.088742         39  "
      ]
     },
     "execution_count": 7,
     "metadata": {},
     "output_type": "execute_result"
    }
   ],
   "source": [
    "#load dataset\n",
    "data = pd.read_excel(r'20190109123920.xlsx')\n",
    "print(data.shape)\n",
    "data.head()"
   ]
  },
  {
   "cell_type": "markdown",
   "metadata": {},
   "source": [
    "### Create binary target variable "
   ]
  },
  {
   "cell_type": "code",
   "execution_count": 8,
   "metadata": {},
   "outputs": [],
   "source": [
    "def target_var(df, var):\n",
    "    df['target'] = [1 if row in ['Incobrável', 'Em recuperação'] else 0 for row in df[var]]\n",
    "    return df\n",
    "\n",
    "data = target_var(data, 'Estado')"
   ]
  },
  {
   "cell_type": "markdown",
   "metadata": {},
   "source": [
    "### Drop variables"
   ]
  },
  {
   "cell_type": "code",
   "execution_count": 9,
   "metadata": {},
   "outputs": [],
   "source": [
    "data.drop(['# Ordem','Estado','# ofertas'], axis = 1, inplace=True)"
   ]
  },
  {
   "cell_type": "code",
   "execution_count": 10,
   "metadata": {},
   "outputs": [
    {
     "data": {
      "text/plain": [
       "Anos atividade    0\n",
       "Região            0\n",
       "Receitas          0\n",
       "Ativos            0\n",
       "Montante          0\n",
       "BR                0\n",
       "Prazo             0\n",
       "# pmts pagas      1\n",
       "Taxa ind.         0\n",
       "Taxa med          0\n",
       "target            0\n",
       "dtype: int64"
      ]
     },
     "execution_count": 10,
     "metadata": {},
     "output_type": "execute_result"
    }
   ],
   "source": [
    "data.isnull().sum()"
   ]
  },
  {
   "cell_type": "markdown",
   "metadata": {},
   "source": [
    "### Imbalanced data"
   ]
  },
  {
   "cell_type": "code",
   "execution_count": 5,
   "metadata": {},
   "outputs": [
    {
     "name": "stdout",
     "output_type": "stream",
     "text": [
      "Classes in test set: {0: 993, 1: 23}\n",
      "Classes in rebalanced test set: {0: 993, 1: 993}\n"
     ]
    }
   ],
   "source": [
    "def imbalanced_data(df):\n",
    "    df = df.copy()\n",
    "    \n",
    "    # dependent and independent variables\n",
    "    X = df.drop(['target'], axis = 1)\n",
    "    y = df.target\n",
    "    \n",
    "    # for handle imbalanced dataset by Oversampling\n",
    "    ros = RandomOverSampler(random_state=0)\n",
    "    \n",
    "    # fit to data\n",
    "    X_resampled, y_resampled = ros.fit_sample(X, y)\n",
    "\n",
    "    # before balancing\n",
    "    yvals, counts = np.unique(data['target'], return_counts=True)\n",
    "    print('Classes in test set:',dict(zip(yvals, counts)))\n",
    "\n",
    "    # after balancing\n",
    "    yvals_ros, counts_ros = np.unique(y_resampled, return_counts=True)\n",
    "    print('Classes in rebalanced test set:',dict(zip(yvals_ros, counts_ros)))\n",
    "    \n",
    "    # Concat imbalanced data\n",
    "    df = pd.concat([pd.DataFrame(X_resampled, columns=X.columns),\n",
    "                    pd.DataFrame(y_resampled, columns=['target'])], axis = 1)\n",
    "    return df\n",
    "\n",
    "data = imbalanced_data(data)"
   ]
  },
  {
   "cell_type": "code",
   "execution_count": 6,
   "metadata": {},
   "outputs": [
    {
     "data": {
      "text/plain": [
       "(1986, 11)"
      ]
     },
     "execution_count": 6,
     "metadata": {},
     "output_type": "execute_result"
    }
   ],
   "source": [
    "data.shape"
   ]
  },
  {
   "cell_type": "markdown",
   "metadata": {},
   "source": [
    "### Separate dataset into train and test"
   ]
  },
  {
   "cell_type": "code",
   "execution_count": 11,
   "metadata": {},
   "outputs": [
    {
     "data": {
      "text/plain": [
       "((1588, 11), (398, 11))"
      ]
     },
     "execution_count": 11,
     "metadata": {},
     "output_type": "execute_result"
    }
   ],
   "source": [
    "X_train, X_test, y_train, y_test = train_test_split(data, data.target, \n",
    "                                                    test_size = 0.2,\n",
    "                                                    stratify=data.target,\n",
    "                                                   random_state = 0)\n",
    "\n",
    "X_train.shape, X_test.shape"
   ]
  },
  {
   "cell_type": "markdown",
   "metadata": {},
   "source": [
    "### Missing values"
   ]
  },
  {
   "cell_type": "code",
   "execution_count": null,
   "metadata": {},
   "outputs": [],
   "source": [
    "vars_with_na = [var for var in data.columns if X_train[var].isnull().sum() >= 1 and X_train[var].dtypes == 'O']\n",
    "\n",
    "for var in vars_with_na:\n",
    "    print(var, np.round(X_train[var].isnull().mean(), 3), ' % missing values')"
   ]
  },
  {
   "cell_type": "code",
   "execution_count": null,
   "metadata": {},
   "outputs": [],
   "source": [
    "#fill missing values with mode\n",
    "for var in vars_with_na:\n",
    "    \n",
    "    #calculate the mode:\n",
    "    mode_val = X_train[var].mode()[0]\n",
    "    \n",
    "    #X_train\n",
    "    X_train[var].fillna(mode_val, inplace = True)\n",
    "    \n",
    "    #X_test\n",
    "    X_test[var].fillna(mode_val, inplace = True)\n",
    "\n",
    "#check if we have no more missing values\n",
    "[var for var in vars_with_na if X_test[var].isnull().sum() > 0]"
   ]
  },
  {
   "cell_type": "code",
   "execution_count": null,
   "metadata": {},
   "outputs": [],
   "source": [
    "#gives a list with columns containing missing values\n",
    "vars_with_na = [var for var in data.columns if X_train[var].isnull().sum()>= 1 and X_train[var].dtypes != 'O']\n",
    "\n",
    "for var in vars_with_na:\n",
    "    print(var, np.round(X_train[var].isnull().mean(),3), ' % missing values')"
   ]
  },
  {
   "cell_type": "code",
   "execution_count": null,
   "metadata": {},
   "outputs": [],
   "source": [
    "#fill missing values with mode\n",
    "for var in vars_with_na:\n",
    "    \n",
    "    #calculate the mode:\n",
    "    mode_val = X_train[var].mode()[0]\n",
    "    \n",
    "    #X_train\n",
    "    X_train[var].fillna(mode_val, inplace = True)\n",
    "    \n",
    "    #X_test\n",
    "    X_test[var].fillna(mode_val, inplace = True)\n",
    "\n",
    "#check if we have no more missing values\n",
    "[var for var in vars_with_na if X_test[var].isnull().sum() > 0]"
   ]
  },
  {
   "cell_type": "markdown",
   "metadata": {},
   "source": [
    "### Misidentified columns types"
   ]
  },
  {
   "cell_type": "code",
   "execution_count": null,
   "metadata": {},
   "outputs": [],
   "source": [
    "# remove the sign %\n",
    "X_train['Taxa ind.'] = [str(row).rstrip(\"%\") for row in X_train['Taxa ind.']]\n",
    "X_test['Taxa ind.'] = [str(row).rstrip(\"%\") for row in X_test['Taxa ind.']]\n",
    "\n",
    "# replace , for .\n",
    "X_train['Taxa ind.'] = [row.replace(',','.') for row in X_train['Taxa ind.']]\n",
    "X_test['Taxa ind.'] = [row.replace(',','.') for row in X_test['Taxa ind.']]\n",
    "\n",
    "# divides per 100 if the value is above 1\n",
    "X_train['Taxa ind.'] = [float(row)/100 if float(row) >=1 else row for row in X_train['Taxa ind.']]\n",
    "X_test['Taxa ind.'] = [float(row)/100 if float(row) >=1 else row for row in X_test['Taxa ind.']]\n",
    "\n",
    "# converts to float\n",
    "X_train['Taxa ind.'] = X_train['Taxa ind.'].astype('float64')\n",
    "X_test['Taxa ind.'] = X_test['Taxa ind.'].astype('float64')"
   ]
  },
  {
   "cell_type": "markdown",
   "metadata": {},
   "source": [
    "### Categorical Variables"
   ]
  },
  {
   "cell_type": "markdown",
   "metadata": {},
   "source": [
    "#### Rare Values"
   ]
  },
  {
   "cell_type": "code",
   "execution_count": null,
   "metadata": {},
   "outputs": [],
   "source": [
    "def find_frequent_labels(df, var, rare_perc):\n",
    "    # finds the labels that are shared by more than a certain % of the houses in the dataset\n",
    "    df = df.copy()\n",
    "    tmp = df.groupby(var)['target'].count() / len(df)\n",
    "    return tmp[tmp>rare_perc].index"
   ]
  },
  {
   "cell_type": "code",
   "execution_count": null,
   "metadata": {},
   "outputs": [],
   "source": [
    "cat_vars = ['Região', 'Receitas', 'Ativos', 'BR']\n",
    "for var in cat_vars:\n",
    "    frequent_ls = find_frequent_labels(X_train, var, 0.01)\n",
    "    X_train[var] = np.where(X_train[var].isin(frequent_ls), X_train[var], 'Rare')\n",
    "    X_test[var] = np.where(X_test[var].isin(frequent_ls), X_test[var], 'Rare')"
   ]
  },
  {
   "cell_type": "markdown",
   "metadata": {},
   "source": [
    "#### Convert str to numbers"
   ]
  },
  {
   "cell_type": "code",
   "execution_count": null,
   "metadata": {},
   "outputs": [],
   "source": [
    "def replace_categories(train, test, var, target):\n",
    "    ordered_labels = train.groupby([var])[target].mean().sort_values().index\n",
    "    ordinal_label = {k:i for i, k in enumerate(ordered_labels, 0)} \n",
    "    train[var] = train[var].map(ordinal_label)\n",
    "    test[var] = test[var].map(ordinal_label)"
   ]
  },
  {
   "cell_type": "code",
   "execution_count": null,
   "metadata": {},
   "outputs": [],
   "source": [
    "for var in cat_vars:\n",
    "    replace_categories(X_train, X_test, var, 'target')"
   ]
  },
  {
   "cell_type": "markdown",
   "metadata": {},
   "source": [
    "### Final data"
   ]
  },
  {
   "cell_type": "code",
   "execution_count": null,
   "metadata": {},
   "outputs": [],
   "source": [
    "X_train.head()"
   ]
  },
  {
   "cell_type": "code",
   "execution_count": null,
   "metadata": {},
   "outputs": [],
   "source": [
    "X_train.to_csv('xtrain.csv', index=False)\n",
    "X_test.to_csv('xtest.csv', index=False)"
   ]
  }
 ],
 "metadata": {
  "kernelspec": {
   "display_name": "Python 3",
   "language": "python",
   "name": "python3"
  },
  "language_info": {
   "codemirror_mode": {
    "name": "ipython",
    "version": 3
   },
   "file_extension": ".py",
   "mimetype": "text/x-python",
   "name": "python",
   "nbconvert_exporter": "python",
   "pygments_lexer": "ipython3",
   "version": "3.6.4"
  }
 },
 "nbformat": 4,
 "nbformat_minor": 2
}
