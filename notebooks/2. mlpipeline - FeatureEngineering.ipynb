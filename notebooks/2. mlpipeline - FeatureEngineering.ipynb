{
 "cells": [
  {
   "cell_type": "code",
   "execution_count": 82,
   "metadata": {},
   "outputs": [],
   "source": [
    "#to handle datasets\n",
    "import pandas as pd\n",
    "import numpy as np\n",
    "\n",
    "#for plotting\n",
    "#import matplotlib.pyplot as plt\n",
    "#%matplotlib inline\n",
    "\n",
    "#to divide train and test set\n",
    "from sklearn.model_selection import train_test_split\n",
    "\n",
    "# feature scaling\n",
    "from sklearn.preprocessing import MinMaxScaler\n",
    "\n",
    "# for imbalanced datasets\n",
    "from imblearn.over_sampling import RandomOverSampler\n",
    "\n",
    "# to visualise al the columns in the dataframe\n",
    "pd.pandas.set_option('display.max_columns', None)\n",
    "\n",
    "# to ignore warnings\n",
    "import warnings\n",
    "warnings.simplefilter('ignore')"
   ]
  },
  {
   "cell_type": "code",
   "execution_count": 169,
   "metadata": {},
   "outputs": [
    {
     "name": "stdout",
     "output_type": "stream",
     "text": [
      "(1016, 13)\n"
     ]
    },
    {
     "data": {
      "text/html": [
       "<div>\n",
       "<style scoped>\n",
       "    .dataframe tbody tr th:only-of-type {\n",
       "        vertical-align: middle;\n",
       "    }\n",
       "\n",
       "    .dataframe tbody tr th {\n",
       "        vertical-align: top;\n",
       "    }\n",
       "\n",
       "    .dataframe thead th {\n",
       "        text-align: right;\n",
       "    }\n",
       "</style>\n",
       "<table border=\"1\" class=\"dataframe\">\n",
       "  <thead>\n",
       "    <tr style=\"text-align: right;\">\n",
       "      <th></th>\n",
       "      <th># Ordem</th>\n",
       "      <th>Estado</th>\n",
       "      <th>Anos atividade</th>\n",
       "      <th>Região</th>\n",
       "      <th>Receitas</th>\n",
       "      <th>Ativos</th>\n",
       "      <th>Montante</th>\n",
       "      <th>BR</th>\n",
       "      <th>Prazo</th>\n",
       "      <th># pmts pagas</th>\n",
       "      <th>Taxa ind.</th>\n",
       "      <th>Taxa med</th>\n",
       "      <th># ofertas</th>\n",
       "    </tr>\n",
       "  </thead>\n",
       "  <tbody>\n",
       "    <tr>\n",
       "      <th>0</th>\n",
       "      <td>0001</td>\n",
       "      <td>Pago</td>\n",
       "      <td>22</td>\n",
       "      <td>Estremadura e Ribatejo</td>\n",
       "      <td>100,000 - 350,000</td>\n",
       "      <td>100,000 - 350,000</td>\n",
       "      <td>2500</td>\n",
       "      <td>A</td>\n",
       "      <td>6</td>\n",
       "      <td>6.0</td>\n",
       "      <td>0.032</td>\n",
       "      <td>0.034630</td>\n",
       "      <td>31</td>\n",
       "    </tr>\n",
       "    <tr>\n",
       "      <th>1</th>\n",
       "      <td>0002</td>\n",
       "      <td>Incobrável</td>\n",
       "      <td>25</td>\n",
       "      <td>Estremadura e Ribatejo</td>\n",
       "      <td>100,000 - 350,000</td>\n",
       "      <td>500,000-1,500,000</td>\n",
       "      <td>20000</td>\n",
       "      <td>B+</td>\n",
       "      <td>36</td>\n",
       "      <td>25.0</td>\n",
       "      <td>0.049</td>\n",
       "      <td>0.049287</td>\n",
       "      <td>33</td>\n",
       "    </tr>\n",
       "    <tr>\n",
       "      <th>2</th>\n",
       "      <td>0003</td>\n",
       "      <td>Pago</td>\n",
       "      <td>15</td>\n",
       "      <td>Estremadura e Ribatejo</td>\n",
       "      <td>100,000 - 350,000</td>\n",
       "      <td>100,000 - 350,000</td>\n",
       "      <td>10000</td>\n",
       "      <td>B+</td>\n",
       "      <td>24</td>\n",
       "      <td>24.0</td>\n",
       "      <td>0.046</td>\n",
       "      <td>0.048462</td>\n",
       "      <td>46</td>\n",
       "    </tr>\n",
       "    <tr>\n",
       "      <th>3</th>\n",
       "      <td>0004</td>\n",
       "      <td>Pago</td>\n",
       "      <td>13</td>\n",
       "      <td>Estremadura e Ribatejo</td>\n",
       "      <td>100,000 - 350,000</td>\n",
       "      <td>100,000 - 350,000</td>\n",
       "      <td>20000</td>\n",
       "      <td>A</td>\n",
       "      <td>48</td>\n",
       "      <td>48.0</td>\n",
       "      <td>0.042</td>\n",
       "      <td>0.044945</td>\n",
       "      <td>85</td>\n",
       "    </tr>\n",
       "    <tr>\n",
       "      <th>4</th>\n",
       "      <td>0005</td>\n",
       "      <td>Pago</td>\n",
       "      <td>27</td>\n",
       "      <td>Estremadura e Ribatejo</td>\n",
       "      <td>100,000 - 350,000</td>\n",
       "      <td>100,000 - 350,000</td>\n",
       "      <td>5000</td>\n",
       "      <td>C</td>\n",
       "      <td>6</td>\n",
       "      <td>6.0</td>\n",
       "      <td>0.087</td>\n",
       "      <td>0.088742</td>\n",
       "      <td>39</td>\n",
       "    </tr>\n",
       "  </tbody>\n",
       "</table>\n",
       "</div>"
      ],
      "text/plain": [
       "  # Ordem      Estado  Anos atividade                  Região  \\\n",
       "0    0001        Pago              22  Estremadura e Ribatejo   \n",
       "1    0002  Incobrável              25  Estremadura e Ribatejo   \n",
       "2    0003        Pago              15  Estremadura e Ribatejo   \n",
       "3    0004        Pago              13  Estremadura e Ribatejo   \n",
       "4    0005        Pago              27  Estremadura e Ribatejo   \n",
       "\n",
       "            Receitas             Ativos  Montante  BR  Prazo  # pmts pagas  \\\n",
       "0  100,000 - 350,000  100,000 - 350,000      2500   A      6           6.0   \n",
       "1  100,000 - 350,000  500,000-1,500,000     20000  B+     36          25.0   \n",
       "2  100,000 - 350,000  100,000 - 350,000     10000  B+     24          24.0   \n",
       "3  100,000 - 350,000  100,000 - 350,000     20000   A     48          48.0   \n",
       "4  100,000 - 350,000  100,000 - 350,000      5000   C      6           6.0   \n",
       "\n",
       "  Taxa ind.  Taxa med  # ofertas  \n",
       "0     0.032  0.034630         31  \n",
       "1     0.049  0.049287         33  \n",
       "2     0.046  0.048462         46  \n",
       "3     0.042  0.044945         85  \n",
       "4     0.087  0.088742         39  "
      ]
     },
     "execution_count": 169,
     "metadata": {},
     "output_type": "execute_result"
    }
   ],
   "source": [
    "#load dataset\n",
    "data = pd.read_excel(r'20190109123920.xlsx')\n",
    "print(data.shape)\n",
    "data.head()"
   ]
  },
  {
   "cell_type": "markdown",
   "metadata": {},
   "source": [
    "### Create binary target variable "
   ]
  },
  {
   "cell_type": "code",
   "execution_count": 170,
   "metadata": {},
   "outputs": [],
   "source": [
    "def target_var(df, var):\n",
    "    df['target'] = [1 if row in ['Incobrável', 'Em recuperação'] else 0 for row in df[var]]\n",
    "    return df\n",
    "\n",
    "data = target_var(data, 'Estado')"
   ]
  },
  {
   "cell_type": "code",
   "execution_count": 171,
   "metadata": {},
   "outputs": [],
   "source": [
    "def balanced_data_imputer(*, df: pd.DataFrame):\n",
    "    df = df.copy()\n",
    "\n",
    "    if df[df.columns].isnull().any().any():\n",
    "        null_counts = df[df.columns].isnull().any()\n",
    "        vars_ = {key: value for (key, value) in null_counts.items()\n",
    "                 if value is True}\n",
    "\n",
    "    # convert to array\n",
    "    vars_ = [x for x in vars_.keys()]\n",
    "\n",
    "    # extract columns with data missing\n",
    "    df_columns_missing = df[vars_]\n",
    "\n",
    "    # dependent and independent variables\n",
    "    X = df.drop(labels=vars_ + [config.TARGET], axis=1)\n",
    "    y = df[config.TARGET]\n",
    "\n",
    "    # for handle imbalanced dataset by Oversampling\n",
    "    ros = RandomOverSampler(random_state=0)\n",
    "\n",
    "    # fit to data\n",
    "    X_resampled, y_resampled = ros.fit_sample(X, y)\n",
    "\n",
    "    # combined data\n",
    "    df = pd.concat([pd.DataFrame(X_resampled, columns=X.columns),\n",
    "                    df_columns_missing,\n",
    "                    pd.DataFrame(y_resampled, columns=['target'])], axis=1)\n",
    "\n",
    "    return df"
   ]
  },
  {
   "cell_type": "code",
   "execution_count": 172,
   "metadata": {},
   "outputs": [
    {
     "data": {
      "text/plain": [
       "(1986, 14)"
      ]
     },
     "execution_count": 172,
     "metadata": {},
     "output_type": "execute_result"
    }
   ],
   "source": [
    "data = BalancedDataImputer(df=data)\n",
    "data.shape"
   ]
  },
  {
   "cell_type": "code",
   "execution_count": 173,
   "metadata": {},
   "outputs": [
    {
     "data": {
      "text/html": [
       "<div>\n",
       "<style scoped>\n",
       "    .dataframe tbody tr th:only-of-type {\n",
       "        vertical-align: middle;\n",
       "    }\n",
       "\n",
       "    .dataframe tbody tr th {\n",
       "        vertical-align: top;\n",
       "    }\n",
       "\n",
       "    .dataframe thead th {\n",
       "        text-align: right;\n",
       "    }\n",
       "</style>\n",
       "<table border=\"1\" class=\"dataframe\">\n",
       "  <thead>\n",
       "    <tr style=\"text-align: right;\">\n",
       "      <th></th>\n",
       "      <th># Ordem</th>\n",
       "      <th>Estado</th>\n",
       "      <th>Anos atividade</th>\n",
       "      <th>Região</th>\n",
       "      <th>Receitas</th>\n",
       "      <th>Ativos</th>\n",
       "      <th>Montante</th>\n",
       "      <th>BR</th>\n",
       "      <th>Prazo</th>\n",
       "      <th>Taxa ind.</th>\n",
       "      <th>Taxa med</th>\n",
       "      <th># ofertas</th>\n",
       "      <th># pmts pagas</th>\n",
       "      <th>target</th>\n",
       "    </tr>\n",
       "  </thead>\n",
       "  <tbody>\n",
       "    <tr>\n",
       "      <th>0</th>\n",
       "      <td>0001</td>\n",
       "      <td>Pago</td>\n",
       "      <td>22</td>\n",
       "      <td>Estremadura e Ribatejo</td>\n",
       "      <td>100,000 - 350,000</td>\n",
       "      <td>100,000 - 350,000</td>\n",
       "      <td>2500</td>\n",
       "      <td>A</td>\n",
       "      <td>6</td>\n",
       "      <td>0.032</td>\n",
       "      <td>0.0346304</td>\n",
       "      <td>31</td>\n",
       "      <td>6.0</td>\n",
       "      <td>0</td>\n",
       "    </tr>\n",
       "    <tr>\n",
       "      <th>1</th>\n",
       "      <td>0002</td>\n",
       "      <td>Incobrável</td>\n",
       "      <td>25</td>\n",
       "      <td>Estremadura e Ribatejo</td>\n",
       "      <td>100,000 - 350,000</td>\n",
       "      <td>500,000-1,500,000</td>\n",
       "      <td>20000</td>\n",
       "      <td>B+</td>\n",
       "      <td>36</td>\n",
       "      <td>0.049</td>\n",
       "      <td>0.0492874</td>\n",
       "      <td>33</td>\n",
       "      <td>25.0</td>\n",
       "      <td>1</td>\n",
       "    </tr>\n",
       "    <tr>\n",
       "      <th>2</th>\n",
       "      <td>0003</td>\n",
       "      <td>Pago</td>\n",
       "      <td>15</td>\n",
       "      <td>Estremadura e Ribatejo</td>\n",
       "      <td>100,000 - 350,000</td>\n",
       "      <td>100,000 - 350,000</td>\n",
       "      <td>10000</td>\n",
       "      <td>B+</td>\n",
       "      <td>24</td>\n",
       "      <td>0.046</td>\n",
       "      <td>0.048462</td>\n",
       "      <td>46</td>\n",
       "      <td>24.0</td>\n",
       "      <td>0</td>\n",
       "    </tr>\n",
       "    <tr>\n",
       "      <th>3</th>\n",
       "      <td>0004</td>\n",
       "      <td>Pago</td>\n",
       "      <td>13</td>\n",
       "      <td>Estremadura e Ribatejo</td>\n",
       "      <td>100,000 - 350,000</td>\n",
       "      <td>100,000 - 350,000</td>\n",
       "      <td>20000</td>\n",
       "      <td>A</td>\n",
       "      <td>48</td>\n",
       "      <td>0.042</td>\n",
       "      <td>0.044945</td>\n",
       "      <td>85</td>\n",
       "      <td>48.0</td>\n",
       "      <td>0</td>\n",
       "    </tr>\n",
       "    <tr>\n",
       "      <th>4</th>\n",
       "      <td>0005</td>\n",
       "      <td>Pago</td>\n",
       "      <td>27</td>\n",
       "      <td>Estremadura e Ribatejo</td>\n",
       "      <td>100,000 - 350,000</td>\n",
       "      <td>100,000 - 350,000</td>\n",
       "      <td>5000</td>\n",
       "      <td>C</td>\n",
       "      <td>6</td>\n",
       "      <td>0.087</td>\n",
       "      <td>0.0887419</td>\n",
       "      <td>39</td>\n",
       "      <td>6.0</td>\n",
       "      <td>0</td>\n",
       "    </tr>\n",
       "  </tbody>\n",
       "</table>\n",
       "</div>"
      ],
      "text/plain": [
       "  # Ordem      Estado Anos atividade                  Região  \\\n",
       "0    0001        Pago             22  Estremadura e Ribatejo   \n",
       "1    0002  Incobrável             25  Estremadura e Ribatejo   \n",
       "2    0003        Pago             15  Estremadura e Ribatejo   \n",
       "3    0004        Pago             13  Estremadura e Ribatejo   \n",
       "4    0005        Pago             27  Estremadura e Ribatejo   \n",
       "\n",
       "            Receitas             Ativos Montante  BR Prazo Taxa ind.  \\\n",
       "0  100,000 - 350,000  100,000 - 350,000     2500   A     6     0.032   \n",
       "1  100,000 - 350,000  500,000-1,500,000    20000  B+    36     0.049   \n",
       "2  100,000 - 350,000  100,000 - 350,000    10000  B+    24     0.046   \n",
       "3  100,000 - 350,000  100,000 - 350,000    20000   A    48     0.042   \n",
       "4  100,000 - 350,000  100,000 - 350,000     5000   C     6     0.087   \n",
       "\n",
       "    Taxa med # ofertas  # pmts pagas  target  \n",
       "0  0.0346304        31           6.0       0  \n",
       "1  0.0492874        33          25.0       1  \n",
       "2   0.048462        46          24.0       0  \n",
       "3   0.044945        85          48.0       0  \n",
       "4  0.0887419        39           6.0       0  "
      ]
     },
     "execution_count": 173,
     "metadata": {},
     "output_type": "execute_result"
    }
   ],
   "source": [
    "data.head()"
   ]
  },
  {
   "cell_type": "markdown",
   "metadata": {},
   "source": [
    "### Drop variables"
   ]
  },
  {
   "cell_type": "code",
   "execution_count": 85,
   "metadata": {},
   "outputs": [],
   "source": [
    "variables = ['# Ordem','Estado','# ofertas']\n",
    "data.drop(variables, axis = 1, inplace=True)"
   ]
  },
  {
   "cell_type": "markdown",
   "metadata": {},
   "source": [
    "### Separate dataset into train and test"
   ]
  },
  {
   "cell_type": "code",
   "execution_count": 174,
   "metadata": {},
   "outputs": [
    {
     "data": {
      "text/plain": [
       "((1588, 14), (398, 14))"
      ]
     },
     "execution_count": 174,
     "metadata": {},
     "output_type": "execute_result"
    }
   ],
   "source": [
    "X_train, X_test, y_train, y_test = train_test_split(data, data.target, \n",
    "                                                    test_size = 0.2,\n",
    "                                                    stratify=data.target,\n",
    "                                                   random_state = 0)\n",
    "\n",
    "X_train.shape, X_test.shape"
   ]
  },
  {
   "cell_type": "markdown",
   "metadata": {},
   "source": [
    "### Missing values"
   ]
  },
  {
   "cell_type": "code",
   "execution_count": 87,
   "metadata": {},
   "outputs": [],
   "source": [
    "vars_with_na = [var for var in data.columns if X_train[var].isnull().sum() >= 1 and X_train[var].dtypes == 'O']\n",
    "\n",
    "for var in vars_with_na:\n",
    "    print(var, np.round(X_train[var].isnull().mean(), 3), ' % missing values')"
   ]
  },
  {
   "cell_type": "code",
   "execution_count": 88,
   "metadata": {},
   "outputs": [
    {
     "data": {
      "text/plain": [
       "[]"
      ]
     },
     "execution_count": 88,
     "metadata": {},
     "output_type": "execute_result"
    }
   ],
   "source": [
    "#fill missing values with mode\n",
    "for var in vars_with_na:\n",
    "    \n",
    "    #calculate the mode:\n",
    "    mode_val = X_train[var].mode()[0]\n",
    "    \n",
    "    #X_train\n",
    "    X_train[var].fillna(mode_val, inplace = True)\n",
    "    \n",
    "    #X_test\n",
    "    X_test[var].fillna(mode_val, inplace = True)\n",
    "\n",
    "#check if we have no more missing values\n",
    "[var for var in vars_with_na if X_test[var].isnull().sum() > 0]"
   ]
  },
  {
   "cell_type": "code",
   "execution_count": 89,
   "metadata": {},
   "outputs": [
    {
     "name": "stdout",
     "output_type": "stream",
     "text": [
      "# pmts pagas 0.001  % missing values\n"
     ]
    }
   ],
   "source": [
    "#gives a list with columns containing missing values\n",
    "vars_with_na = [var for var in data.columns if X_train[var].isnull().sum()>= 1 and X_train[var].dtypes != 'O']\n",
    "\n",
    "for var in vars_with_na:\n",
    "    print(var, np.round(X_train[var].isnull().mean(),3), ' % missing values')"
   ]
  },
  {
   "cell_type": "code",
   "execution_count": 90,
   "metadata": {},
   "outputs": [
    {
     "data": {
      "text/plain": [
       "[]"
      ]
     },
     "execution_count": 90,
     "metadata": {},
     "output_type": "execute_result"
    }
   ],
   "source": [
    "#fill missing values with mode\n",
    "for var in vars_with_na:\n",
    "    \n",
    "    #calculate the mode:\n",
    "    mode_val = X_train[var].mode()[0]\n",
    "    \n",
    "    #X_train\n",
    "    X_train[var].fillna(mode_val, inplace = True)\n",
    "    \n",
    "    #X_test\n",
    "    X_test[var].fillna(mode_val, inplace = True)\n",
    "\n",
    "#check if we have no more missing values\n",
    "[var for var in vars_with_na if X_test[var].isnull().sum() > 0]"
   ]
  },
  {
   "cell_type": "markdown",
   "metadata": {},
   "source": [
    "### Misidentified columns types"
   ]
  },
  {
   "cell_type": "code",
   "execution_count": 91,
   "metadata": {},
   "outputs": [],
   "source": [
    "# remove the sign %\n",
    "X_train['Taxa ind.'] = [str(row).rstrip(\"%\") for row in X_train['Taxa ind.']]\n",
    "X_test['Taxa ind.'] = [str(row).rstrip(\"%\") for row in X_test['Taxa ind.']]\n",
    "\n",
    "# replace , for .\n",
    "X_train['Taxa ind.'] = [row.replace(',','.') for row in X_train['Taxa ind.']]\n",
    "X_test['Taxa ind.'] = [row.replace(',','.') for row in X_test['Taxa ind.']]\n",
    "\n",
    "# divides per 100 if the value is above 1\n",
    "X_train['Taxa ind.'] = [float(row)/100 if float(row) >=1 else row for row in X_train['Taxa ind.']]\n",
    "X_test['Taxa ind.'] = [float(row)/100 if float(row) >=1 else row for row in X_test['Taxa ind.']]\n",
    "\n",
    "# converts to float\n",
    "X_train['Taxa ind.'] = X_train['Taxa ind.'].astype('float64')\n",
    "X_test['Taxa ind.'] = X_test['Taxa ind.'].astype('float64')"
   ]
  },
  {
   "cell_type": "markdown",
   "metadata": {},
   "source": [
    "### Categorical Variables"
   ]
  },
  {
   "cell_type": "markdown",
   "metadata": {},
   "source": [
    "#### Rare Values"
   ]
  },
  {
   "cell_type": "code",
   "execution_count": 92,
   "metadata": {},
   "outputs": [],
   "source": [
    "def find_frequent_labels(df, var, rare_perc):\n",
    "    # finds the labels that are shared by more than a certain % of the houses in the dataset\n",
    "    df = df.copy()\n",
    "    tmp = df.groupby(var)['target'].count() / len(df)\n",
    "    return tmp[tmp>rare_perc].index"
   ]
  },
  {
   "cell_type": "code",
   "execution_count": 93,
   "metadata": {},
   "outputs": [],
   "source": [
    "cat_vars = ['Região', 'Receitas', 'Ativos', 'BR']\n",
    "for var in cat_vars:\n",
    "    frequent_ls = find_frequent_labels(X_train, var, 0.01)\n",
    "    X_train[var] = np.where(X_train[var].isin(frequent_ls), X_train[var], 'Rare')\n",
    "    X_test[var] = np.where(X_test[var].isin(frequent_ls), X_test[var], 'Rare')"
   ]
  },
  {
   "cell_type": "markdown",
   "metadata": {},
   "source": [
    "#### Convert str to numbers"
   ]
  },
  {
   "cell_type": "code",
   "execution_count": 94,
   "metadata": {},
   "outputs": [],
   "source": [
    "def replace_categories(train, test, var, target):\n",
    "    ordered_labels = train.groupby([var])[target].mean().sort_values().index\n",
    "    ordinal_label = {k:i for i, k in enumerate(ordered_labels, 0)} \n",
    "    train[var] = train[var].map(ordinal_label)\n",
    "    test[var] = test[var].map(ordinal_label)"
   ]
  },
  {
   "cell_type": "code",
   "execution_count": 95,
   "metadata": {},
   "outputs": [],
   "source": [
    "for var in cat_vars:\n",
    "    replace_categories(X_train, X_test, var, 'target')"
   ]
  },
  {
   "cell_type": "markdown",
   "metadata": {},
   "source": [
    "### Imbalanced data"
   ]
  },
  {
   "cell_type": "markdown",
   "metadata": {},
   "source": [
    "def imbalanced_data(df):\n",
    "    df = df.copy()\n",
    "    \n",
    "    # dependent and independent variables\n",
    "    X = df.drop(['target'], axis = 1)\n",
    "    y = df.target\n",
    "    \n",
    "    # for handle imbalanced dataset by Oversampling\n",
    "    ros = RandomOverSampler(random_state=0)\n",
    "    \n",
    "    # fit to data\n",
    "    X_resampled, y_resampled = ros.fit_sample(X, y)\n",
    "\n",
    "    # before balancing\n",
    "    yvals, counts = np.unique(df['target'], return_counts=True)\n",
    "    print('Classes in test set:',dict(zip(yvals, counts)))\n",
    "\n",
    "    # after balancing\n",
    "    yvals_ros, counts_ros = np.unique(y_resampled, return_counts=True)\n",
    "    print('Classes in rebalanced test set:',dict(zip(yvals_ros, counts_ros)))\n",
    "    \n",
    "    # Concat imbalanced data\n",
    "    df = pd.concat([pd.DataFrame(X_resampled, columns=X.columns),\n",
    "                    pd.DataFrame(y_resampled, columns=['target'])], axis = 1)\n",
    "    return df"
   ]
  },
  {
   "cell_type": "markdown",
   "metadata": {},
   "source": [
    "X_train = imbalanced_data(X_train)\n",
    "X_test = imbalanced_data(X_test)"
   ]
  },
  {
   "cell_type": "markdown",
   "metadata": {},
   "source": [
    "### Final data"
   ]
  },
  {
   "cell_type": "code",
   "execution_count": 96,
   "metadata": {},
   "outputs": [
    {
     "data": {
      "text/html": [
       "<div>\n",
       "<style scoped>\n",
       "    .dataframe tbody tr th:only-of-type {\n",
       "        vertical-align: middle;\n",
       "    }\n",
       "\n",
       "    .dataframe tbody tr th {\n",
       "        vertical-align: top;\n",
       "    }\n",
       "\n",
       "    .dataframe thead th {\n",
       "        text-align: right;\n",
       "    }\n",
       "</style>\n",
       "<table border=\"1\" class=\"dataframe\">\n",
       "  <thead>\n",
       "    <tr style=\"text-align: right;\">\n",
       "      <th></th>\n",
       "      <th>Anos atividade</th>\n",
       "      <th>Região</th>\n",
       "      <th>Receitas</th>\n",
       "      <th>Ativos</th>\n",
       "      <th>Montante</th>\n",
       "      <th>BR</th>\n",
       "      <th>Prazo</th>\n",
       "      <th># pmts pagas</th>\n",
       "      <th>Taxa ind.</th>\n",
       "      <th>Taxa med</th>\n",
       "      <th>target</th>\n",
       "    </tr>\n",
       "  </thead>\n",
       "  <tbody>\n",
       "    <tr>\n",
       "      <th>740</th>\n",
       "      <td>41</td>\n",
       "      <td>4</td>\n",
       "      <td>1</td>\n",
       "      <td>3</td>\n",
       "      <td>20000</td>\n",
       "      <td>5</td>\n",
       "      <td>36</td>\n",
       "      <td>7.0</td>\n",
       "      <td>0.0549</td>\n",
       "      <td>0.054900</td>\n",
       "      <td>0</td>\n",
       "    </tr>\n",
       "    <tr>\n",
       "      <th>581</th>\n",
       "      <td>23</td>\n",
       "      <td>7</td>\n",
       "      <td>3</td>\n",
       "      <td>1</td>\n",
       "      <td>10000</td>\n",
       "      <td>6</td>\n",
       "      <td>36</td>\n",
       "      <td>11.0</td>\n",
       "      <td>0.0748</td>\n",
       "      <td>0.074800</td>\n",
       "      <td>0</td>\n",
       "    </tr>\n",
       "    <tr>\n",
       "      <th>31</th>\n",
       "      <td>4</td>\n",
       "      <td>8</td>\n",
       "      <td>1</td>\n",
       "      <td>3</td>\n",
       "      <td>10000</td>\n",
       "      <td>5</td>\n",
       "      <td>12</td>\n",
       "      <td>12.0</td>\n",
       "      <td>0.0417</td>\n",
       "      <td>0.047348</td>\n",
       "      <td>0</td>\n",
       "    </tr>\n",
       "    <tr>\n",
       "      <th>856</th>\n",
       "      <td>4</td>\n",
       "      <td>7</td>\n",
       "      <td>2</td>\n",
       "      <td>3</td>\n",
       "      <td>15000</td>\n",
       "      <td>7</td>\n",
       "      <td>36</td>\n",
       "      <td>4.0</td>\n",
       "      <td>0.0856</td>\n",
       "      <td>0.085600</td>\n",
       "      <td>0</td>\n",
       "    </tr>\n",
       "    <tr>\n",
       "      <th>489</th>\n",
       "      <td>4</td>\n",
       "      <td>6</td>\n",
       "      <td>2</td>\n",
       "      <td>1</td>\n",
       "      <td>20000</td>\n",
       "      <td>1</td>\n",
       "      <td>24</td>\n",
       "      <td>13.0</td>\n",
       "      <td>0.0609</td>\n",
       "      <td>0.060685</td>\n",
       "      <td>0</td>\n",
       "    </tr>\n",
       "  </tbody>\n",
       "</table>\n",
       "</div>"
      ],
      "text/plain": [
       "     Anos atividade  Região  Receitas  Ativos  Montante  BR  Prazo  \\\n",
       "740              41       4         1       3     20000   5     36   \n",
       "581              23       7         3       1     10000   6     36   \n",
       "31                4       8         1       3     10000   5     12   \n",
       "856               4       7         2       3     15000   7     36   \n",
       "489               4       6         2       1     20000   1     24   \n",
       "\n",
       "     # pmts pagas  Taxa ind.  Taxa med  target  \n",
       "740           7.0     0.0549  0.054900       0  \n",
       "581          11.0     0.0748  0.074800       0  \n",
       "31           12.0     0.0417  0.047348       0  \n",
       "856           4.0     0.0856  0.085600       0  \n",
       "489          13.0     0.0609  0.060685       0  "
      ]
     },
     "execution_count": 96,
     "metadata": {},
     "output_type": "execute_result"
    }
   ],
   "source": [
    "X_train.head()"
   ]
  },
  {
   "cell_type": "code",
   "execution_count": 97,
   "metadata": {},
   "outputs": [],
   "source": [
    "X_train.to_csv('xtrain.csv', index=False)\n",
    "X_test.to_csv('xtest.csv', index=False)"
   ]
  }
 ],
 "metadata": {
  "kernelspec": {
   "display_name": "Python 3",
   "language": "python",
   "name": "python3"
  },
  "language_info": {
   "codemirror_mode": {
    "name": "ipython",
    "version": 3
   },
   "file_extension": ".py",
   "mimetype": "text/x-python",
   "name": "python",
   "nbconvert_exporter": "python",
   "pygments_lexer": "ipython3",
   "version": "3.7.3"
  }
 },
 "nbformat": 4,
 "nbformat_minor": 2
}
