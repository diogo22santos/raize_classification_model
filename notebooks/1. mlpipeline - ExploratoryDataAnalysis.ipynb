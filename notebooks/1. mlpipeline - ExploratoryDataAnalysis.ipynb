{
 "cells": [
  {
   "cell_type": "markdown",
   "metadata": {},
   "source": [
    "## Exploratory Data Analysis"
   ]
  },
  {
   "cell_type": "code",
   "execution_count": 68,
   "metadata": {},
   "outputs": [],
   "source": [
    "# to handle datasets\n",
    "import pandas as pd\n",
    "import numpy as np\n",
    "\n",
    "# for plotting\n",
    "import matplotlib.pyplot as plt\n",
    "% matplotlib inline\n",
    "import seaborn as sns\n",
    "\n",
    "# to display all the columns of the dataframe in the notebook\n",
    "pd.pandas.set_option('display.max_columns', None)\n",
    "\n",
    "# to eliminate warnings\n",
    "import warnings\n",
    "warnings.simplefilter('ignore')"
   ]
  },
  {
   "cell_type": "code",
   "execution_count": 72,
   "metadata": {},
   "outputs": [
    {
     "name": "stdout",
     "output_type": "stream",
     "text": [
      "(1016, 11)\n"
     ]
    },
    {
     "data": {
      "text/html": [
       "<div>\n",
       "<style scoped>\n",
       "    .dataframe tbody tr th:only-of-type {\n",
       "        vertical-align: middle;\n",
       "    }\n",
       "\n",
       "    .dataframe tbody tr th {\n",
       "        vertical-align: top;\n",
       "    }\n",
       "\n",
       "    .dataframe thead th {\n",
       "        text-align: right;\n",
       "    }\n",
       "</style>\n",
       "<table border=\"1\" class=\"dataframe\">\n",
       "  <thead>\n",
       "    <tr style=\"text-align: right;\">\n",
       "      <th></th>\n",
       "      <th>Anos atividade</th>\n",
       "      <th>Região</th>\n",
       "      <th>Receitas</th>\n",
       "      <th>Ativos</th>\n",
       "      <th>Montante</th>\n",
       "      <th>BR</th>\n",
       "      <th>Prazo</th>\n",
       "      <th># pmts pagas</th>\n",
       "      <th>Taxa ind.</th>\n",
       "      <th>Taxa med</th>\n",
       "      <th>target</th>\n",
       "    </tr>\n",
       "  </thead>\n",
       "  <tbody>\n",
       "    <tr>\n",
       "      <th>0</th>\n",
       "      <td>22</td>\n",
       "      <td>Estremadura e Ribatejo</td>\n",
       "      <td>100,000 - 350,000</td>\n",
       "      <td>100,000 - 350,000</td>\n",
       "      <td>2500</td>\n",
       "      <td>A</td>\n",
       "      <td>6</td>\n",
       "      <td>6.0</td>\n",
       "      <td>0.032</td>\n",
       "      <td>0.034630</td>\n",
       "      <td>0</td>\n",
       "    </tr>\n",
       "    <tr>\n",
       "      <th>1</th>\n",
       "      <td>25</td>\n",
       "      <td>Estremadura e Ribatejo</td>\n",
       "      <td>100,000 - 350,000</td>\n",
       "      <td>500,000-1,500,000</td>\n",
       "      <td>20000</td>\n",
       "      <td>B+</td>\n",
       "      <td>36</td>\n",
       "      <td>25.0</td>\n",
       "      <td>0.049</td>\n",
       "      <td>0.049287</td>\n",
       "      <td>1</td>\n",
       "    </tr>\n",
       "    <tr>\n",
       "      <th>2</th>\n",
       "      <td>15</td>\n",
       "      <td>Estremadura e Ribatejo</td>\n",
       "      <td>100,000 - 350,000</td>\n",
       "      <td>100,000 - 350,000</td>\n",
       "      <td>10000</td>\n",
       "      <td>B+</td>\n",
       "      <td>24</td>\n",
       "      <td>24.0</td>\n",
       "      <td>0.046</td>\n",
       "      <td>0.048462</td>\n",
       "      <td>0</td>\n",
       "    </tr>\n",
       "    <tr>\n",
       "      <th>3</th>\n",
       "      <td>13</td>\n",
       "      <td>Estremadura e Ribatejo</td>\n",
       "      <td>100,000 - 350,000</td>\n",
       "      <td>100,000 - 350,000</td>\n",
       "      <td>20000</td>\n",
       "      <td>A</td>\n",
       "      <td>48</td>\n",
       "      <td>48.0</td>\n",
       "      <td>0.042</td>\n",
       "      <td>0.044945</td>\n",
       "      <td>0</td>\n",
       "    </tr>\n",
       "    <tr>\n",
       "      <th>4</th>\n",
       "      <td>27</td>\n",
       "      <td>Estremadura e Ribatejo</td>\n",
       "      <td>100,000 - 350,000</td>\n",
       "      <td>100,000 - 350,000</td>\n",
       "      <td>5000</td>\n",
       "      <td>C</td>\n",
       "      <td>6</td>\n",
       "      <td>6.0</td>\n",
       "      <td>0.087</td>\n",
       "      <td>0.088742</td>\n",
       "      <td>0</td>\n",
       "    </tr>\n",
       "  </tbody>\n",
       "</table>\n",
       "</div>"
      ],
      "text/plain": [
       "   Anos atividade                  Região           Receitas  \\\n",
       "0              22  Estremadura e Ribatejo  100,000 - 350,000   \n",
       "1              25  Estremadura e Ribatejo  100,000 - 350,000   \n",
       "2              15  Estremadura e Ribatejo  100,000 - 350,000   \n",
       "3              13  Estremadura e Ribatejo  100,000 - 350,000   \n",
       "4              27  Estremadura e Ribatejo  100,000 - 350,000   \n",
       "\n",
       "              Ativos  Montante  BR  Prazo  # pmts pagas Taxa ind.  Taxa med  \\\n",
       "0  100,000 - 350,000      2500   A      6           6.0     0.032  0.034630   \n",
       "1  500,000-1,500,000     20000  B+     36          25.0     0.049  0.049287   \n",
       "2  100,000 - 350,000     10000  B+     24          24.0     0.046  0.048462   \n",
       "3  100,000 - 350,000     20000   A     48          48.0     0.042  0.044945   \n",
       "4  100,000 - 350,000      5000   C      6           6.0     0.087  0.088742   \n",
       "\n",
       "   target  \n",
       "0       0  \n",
       "1       1  \n",
       "2       0  \n",
       "3       0  \n",
       "4       0  "
      ]
     },
     "execution_count": 72,
     "metadata": {},
     "output_type": "execute_result"
    }
   ],
   "source": [
    "# load dataset\n",
    "data = pd.read_excel(r'20190109123920.xlsx')\n",
    "\n",
    "# Create target variable\n",
    "data['target'] = [1 if row in ['Incobrável', 'Em recuperação'] else 0 for row in data['Estado']]\n",
    "\n",
    "# Variables to drop\n",
    "data.drop(['# Ordem','Estado','# ofertas'], axis = 1, inplace = True)\n",
    "\n",
    "# rows and columns shape\n",
    "print(data.shape)\n",
    "\n",
    "# visualize dataset\n",
    "data.head()"
   ]
  },
  {
   "cell_type": "markdown",
   "metadata": {},
   "source": [
    "**Exploratory Analysis aims to identify:**\n",
    "1. Missing values\n",
    "2. Numerical values and their distribution\n",
    "3. Outliers\n",
    "4. Categorical variables and str corrections\n",
    "5. Cardinality of categorical variables\n",
    "6. Explore relationships between variables and target variable (Estado)"
   ]
  },
  {
   "cell_type": "markdown",
   "metadata": {},
   "source": [
    "### Target Variable"
   ]
  },
  {
   "cell_type": "code",
   "execution_count": 73,
   "metadata": {},
   "outputs": [
    {
     "data": {
      "image/png": "[encoded data removed]",
      "text/plain": [
       "<Figure size 360x360 with 1 Axes>"
      ]
     },
     "metadata": {},
     "output_type": "display_data"
    }
   ],
   "source": [
    "def convert_target_variable(df):\n",
    "    df = df.copy()\n",
    "    \n",
    "    # plot a pie chart with the target variable distribution values\n",
    "    plt.figure(figsize=[5,5])\n",
    "    df['target'].value_counts().plot(kind = 'pie', autopct='%1.2f%%')\n",
    "    plt.show()\n",
    "\n",
    "convert_target_variable(data)"
   ]
  },
  {
   "cell_type": "markdown",
   "metadata": {},
   "source": [
    "The target variable is imbalanced. It means that we will have to oversample the categorie 1."
   ]
  },
  {
   "cell_type": "markdown",
   "metadata": {},
   "source": [
    "### Missing Values"
   ]
  },
  {
   "cell_type": "code",
   "execution_count": 74,
   "metadata": {},
   "outputs": [
    {
     "name": "stdout",
     "output_type": "stream",
     "text": [
      "# pmts pagas 0.001 % of missing values\n"
     ]
    }
   ],
   "source": [
    "# make a list of variables with na values\n",
    "vars_with_na = [var for var in data.columns if data[var].isnull().sum() > 0]\n",
    "\n",
    "# print the variable name and the percentage of missing values\n",
    "for var in vars_with_na:\n",
    "    print(var, np.round(data[var].isnull().mean(), 3), '% of missing values')"
   ]
  },
  {
   "cell_type": "markdown",
   "metadata": {},
   "source": [
    "**Relatioship between missing values and Target**"
   ]
  },
  {
   "cell_type": "code",
   "execution_count": 75,
   "metadata": {},
   "outputs": [
    {
     "data": {
      "image/png": "[encoded data removed]",
      "text/plain": [
       "<Figure size 432x288 with 1 Axes>"
      ]
     },
     "metadata": {
      "needs_background": "light"
     },
     "output_type": "display_data"
    }
   ],
   "source": [
    "def analyze_na_value(df, var):\n",
    "    df = df.copy()\n",
    "    \n",
    "    # replaces the value for 1 if the value is missing and 0 if it not missing\n",
    "    df[var] = np.where(df[var].isnull(), 1, 0)\n",
    "    \n",
    "    #plot the variables with missing data\n",
    "    #sns.barplot(x = var, y = 'target', data = df)\n",
    "    df.groupby(var)['target'].mean().plot.bar()\n",
    "    plt.title(var)\n",
    "    plt.show()\n",
    "    \n",
    "for var in vars_with_na:\n",
    "    analyze_na_value(data, var)"
   ]
  },
  {
   "cell_type": "markdown",
   "metadata": {},
   "source": [
    "We can conclude there's no predictive relevance on the missing data"
   ]
  },
  {
   "cell_type": "markdown",
   "metadata": {},
   "source": [
    "### Categorical Variables"
   ]
  },
  {
   "cell_type": "code",
   "execution_count": 76,
   "metadata": {},
   "outputs": [
    {
     "name": "stdout",
     "output_type": "stream",
     "text": [
      "Number of categorical variables:  5\n"
     ]
    },
    {
     "data": {
      "text/html": [
       "<div>\n",
       "<style scoped>\n",
       "    .dataframe tbody tr th:only-of-type {\n",
       "        vertical-align: middle;\n",
       "    }\n",
       "\n",
       "    .dataframe tbody tr th {\n",
       "        vertical-align: top;\n",
       "    }\n",
       "\n",
       "    .dataframe thead th {\n",
       "        text-align: right;\n",
       "    }\n",
       "</style>\n",
       "<table border=\"1\" class=\"dataframe\">\n",
       "  <thead>\n",
       "    <tr style=\"text-align: right;\">\n",
       "      <th></th>\n",
       "      <th>Região</th>\n",
       "      <th>Receitas</th>\n",
       "      <th>Ativos</th>\n",
       "      <th>BR</th>\n",
       "      <th>Taxa ind.</th>\n",
       "    </tr>\n",
       "  </thead>\n",
       "  <tbody>\n",
       "    <tr>\n",
       "      <th>0</th>\n",
       "      <td>Estremadura e Ribatejo</td>\n",
       "      <td>100,000 - 350,000</td>\n",
       "      <td>100,000 - 350,000</td>\n",
       "      <td>A</td>\n",
       "      <td>0.032</td>\n",
       "    </tr>\n",
       "    <tr>\n",
       "      <th>1</th>\n",
       "      <td>Estremadura e Ribatejo</td>\n",
       "      <td>100,000 - 350,000</td>\n",
       "      <td>500,000-1,500,000</td>\n",
       "      <td>B+</td>\n",
       "      <td>0.049</td>\n",
       "    </tr>\n",
       "    <tr>\n",
       "      <th>2</th>\n",
       "      <td>Estremadura e Ribatejo</td>\n",
       "      <td>100,000 - 350,000</td>\n",
       "      <td>100,000 - 350,000</td>\n",
       "      <td>B+</td>\n",
       "      <td>0.046</td>\n",
       "    </tr>\n",
       "    <tr>\n",
       "      <th>3</th>\n",
       "      <td>Estremadura e Ribatejo</td>\n",
       "      <td>100,000 - 350,000</td>\n",
       "      <td>100,000 - 350,000</td>\n",
       "      <td>A</td>\n",
       "      <td>0.042</td>\n",
       "    </tr>\n",
       "    <tr>\n",
       "      <th>4</th>\n",
       "      <td>Estremadura e Ribatejo</td>\n",
       "      <td>100,000 - 350,000</td>\n",
       "      <td>100,000 - 350,000</td>\n",
       "      <td>C</td>\n",
       "      <td>0.087</td>\n",
       "    </tr>\n",
       "  </tbody>\n",
       "</table>\n",
       "</div>"
      ],
      "text/plain": [
       "                   Região           Receitas             Ativos  BR Taxa ind.\n",
       "0  Estremadura e Ribatejo  100,000 - 350,000  100,000 - 350,000   A     0.032\n",
       "1  Estremadura e Ribatejo  100,000 - 350,000  500,000-1,500,000  B+     0.049\n",
       "2  Estremadura e Ribatejo  100,000 - 350,000  100,000 - 350,000  B+     0.046\n",
       "3  Estremadura e Ribatejo  100,000 - 350,000  100,000 - 350,000   A     0.042\n",
       "4  Estremadura e Ribatejo  100,000 - 350,000  100,000 - 350,000   C     0.087"
      ]
     },
     "execution_count": 76,
     "metadata": {},
     "output_type": "execute_result"
    }
   ],
   "source": [
    "cat_vars = [var for var in data.columns if data[var].dtypes == 'O']\n",
    "print('Number of categorical variables: ', len(cat_vars))\n",
    "\n",
    "data[cat_vars].head()"
   ]
  },
  {
   "cell_type": "code",
   "execution_count": 27,
   "metadata": {},
   "outputs": [
    {
     "data": {
      "text/plain": [
       "array([0.032, 0.049, 0.046, 0.042, 0.087, 0.062, 0.0554, 0.0417, 0.0716,\n",
       "       0.0617, 0.0867, 0.0516, 0.0416, 0.0967, 0.0316, 0.0605, 0.0509,\n",
       "       0.0708, 0.0457, 0.0408, 0.0915, 0.0305, 0.0609, 0.0406, 0.0856,\n",
       "       0.03, 0.0557, 0.0506, 0.07069602351104329, 0.0657, 0.0959, 0.1,\n",
       "       0.0357, 0.0999, 0.0649, 0.0907, 0.0549, 0.0782, 0.0834,\n",
       "       0.045700000000000005, 0.0874, 0.0958, 0.0455, 0.0748, '6,57%',\n",
       "       '6,09%', 0.0997, 0.0731, 0.0957, 0.0747, '7,07%', 0.0995, 0.0781,\n",
       "       0.0815, 0.0906, 0.0998, 0.08, 0.0592, 0.0648851944999995,\n",
       "       0.07079645043014725, 0.07486817584879389, 0.06087675517637628,\n",
       "       0.09990000000019456, 0.0792, 0.0692, 0.0917, 0.06,\n",
       "       0.07919999999999999, 0.060899999999999996, 0.054900000000000004,\n",
       "       0.08560000000000001, 0.0639, 0.0492, 0.09, 0.044800000000000006,\n",
       "       0.06570000000000001, 0.035, 0.0538, 0.0475, 0.0738, 0.0479, 0.0904,\n",
       "       0.0431, 0.0679, 0.0981, 0.0579, 0.10289999999999999,\n",
       "       0.053099999999999994, 0.06309999999999999, 0.06280000000000001,\n",
       "       0.0779, 0.0728, 0.07, 0.0528, 0.035699999999999996, 0.045, 0.04,\n",
       "       0.0425], dtype=object)"
      ]
     },
     "execution_count": 27,
     "metadata": {},
     "output_type": "execute_result"
    }
   ],
   "source": [
    "data['Taxa ind.'].unique()"
   ]
  },
  {
   "cell_type": "markdown",
   "metadata": {},
   "source": [
    "**The variable \"Taxa ind.\" should be of type float as it referes to a rate. It has some elements that are converting it to string.**"
   ]
  },
  {
   "cell_type": "code",
   "execution_count": 77,
   "metadata": {},
   "outputs": [
    {
     "name": "stdout",
     "output_type": "stream",
     "text": [
      "Number of categorical variables:  4\n"
     ]
    },
    {
     "data": {
      "text/html": [
       "<div>\n",
       "<style scoped>\n",
       "    .dataframe tbody tr th:only-of-type {\n",
       "        vertical-align: middle;\n",
       "    }\n",
       "\n",
       "    .dataframe tbody tr th {\n",
       "        vertical-align: top;\n",
       "    }\n",
       "\n",
       "    .dataframe thead th {\n",
       "        text-align: right;\n",
       "    }\n",
       "</style>\n",
       "<table border=\"1\" class=\"dataframe\">\n",
       "  <thead>\n",
       "    <tr style=\"text-align: right;\">\n",
       "      <th></th>\n",
       "      <th>Região</th>\n",
       "      <th>Receitas</th>\n",
       "      <th>Ativos</th>\n",
       "      <th>BR</th>\n",
       "    </tr>\n",
       "  </thead>\n",
       "  <tbody>\n",
       "    <tr>\n",
       "      <th>0</th>\n",
       "      <td>Estremadura e Ribatejo</td>\n",
       "      <td>100,000 - 350,000</td>\n",
       "      <td>100,000 - 350,000</td>\n",
       "      <td>A</td>\n",
       "    </tr>\n",
       "    <tr>\n",
       "      <th>1</th>\n",
       "      <td>Estremadura e Ribatejo</td>\n",
       "      <td>100,000 - 350,000</td>\n",
       "      <td>500,000-1,500,000</td>\n",
       "      <td>B+</td>\n",
       "    </tr>\n",
       "    <tr>\n",
       "      <th>2</th>\n",
       "      <td>Estremadura e Ribatejo</td>\n",
       "      <td>100,000 - 350,000</td>\n",
       "      <td>100,000 - 350,000</td>\n",
       "      <td>B+</td>\n",
       "    </tr>\n",
       "    <tr>\n",
       "      <th>3</th>\n",
       "      <td>Estremadura e Ribatejo</td>\n",
       "      <td>100,000 - 350,000</td>\n",
       "      <td>100,000 - 350,000</td>\n",
       "      <td>A</td>\n",
       "    </tr>\n",
       "    <tr>\n",
       "      <th>4</th>\n",
       "      <td>Estremadura e Ribatejo</td>\n",
       "      <td>100,000 - 350,000</td>\n",
       "      <td>100,000 - 350,000</td>\n",
       "      <td>C</td>\n",
       "    </tr>\n",
       "  </tbody>\n",
       "</table>\n",
       "</div>"
      ],
      "text/plain": [
       "                   Região           Receitas             Ativos  BR\n",
       "0  Estremadura e Ribatejo  100,000 - 350,000  100,000 - 350,000   A\n",
       "1  Estremadura e Ribatejo  100,000 - 350,000  500,000-1,500,000  B+\n",
       "2  Estremadura e Ribatejo  100,000 - 350,000  100,000 - 350,000  B+\n",
       "3  Estremadura e Ribatejo  100,000 - 350,000  100,000 - 350,000   A\n",
       "4  Estremadura e Ribatejo  100,000 - 350,000  100,000 - 350,000   C"
      ]
     },
     "execution_count": 77,
     "metadata": {},
     "output_type": "execute_result"
    }
   ],
   "source": [
    "# remove the sign %\n",
    "data['Taxa ind.'] = [str(row).rstrip(\"%\") for row in data['Taxa ind.']]\n",
    "\n",
    "# replace , for .\n",
    "data['Taxa ind.'] = [row.replace(',','.') for row in data['Taxa ind.']]\n",
    "\n",
    "# divides per 100 if the value is above 1\n",
    "data['Taxa ind.'] = [float(row)/100 if float(row) >=1 else row for row in data['Taxa ind.']]\n",
    "\n",
    "# converts to float\n",
    "data['Taxa ind.'] = data['Taxa ind.'].astype('float64')\n",
    "\n",
    "# categorical variables\n",
    "cat_vars = [var for var in data.columns if data[var].dtypes == 'O']\n",
    "print('Number of categorical variables: ', len(cat_vars))\n",
    "\n",
    "data[cat_vars].head()"
   ]
  },
  {
   "cell_type": "markdown",
   "metadata": {},
   "source": [
    "**Cardinality**"
   ]
  },
  {
   "cell_type": "code",
   "execution_count": 78,
   "metadata": {},
   "outputs": [
    {
     "name": "stdout",
     "output_type": "stream",
     "text": [
      "Região 10  categories\n",
      "Receitas 5  categories\n",
      "Ativos 5  categories\n",
      "BR 10  categories\n"
     ]
    }
   ],
   "source": [
    "for var in cat_vars:\n",
    "    print(var, len(data[var].unique()), ' categories')"
   ]
  },
  {
   "cell_type": "markdown",
   "metadata": {},
   "source": [
    "**Rare labels**"
   ]
  },
  {
   "cell_type": "code",
   "execution_count": 80,
   "metadata": {},
   "outputs": [
    {
     "name": "stdout",
     "output_type": "stream",
     "text": [
      "Series([], Name: target, dtype: float64)\n",
      "\n",
      "Series([], Name: target, dtype: float64)\n",
      "\n",
      "Series([], Name: target, dtype: float64)\n",
      "\n",
      "BR\n",
      "-      0.000984\n",
      "PME    0.006890\n",
      "Name: target, dtype: float64\n",
      "\n"
     ]
    }
   ],
   "source": [
    "def analyse_rare_labels(df, var, rare_perc):\n",
    "    df = df.copy()\n",
    "    \n",
    "    tmp = df.groupby(var)['target'].count() / len(df)\n",
    "    return tmp[tmp < rare_perc]\n",
    "\n",
    "for var in cat_vars:\n",
    "    print(analyse_rare_labels(data, var, 0.01))\n",
    "    print()"
   ]
  },
  {
   "cell_type": "code",
   "execution_count": 85,
   "metadata": {},
   "outputs": [
    {
     "data": {
      "image/png": "[encoded data removed]",
      "text/plain": [
       "<Figure size 432x288 with 1 Axes>"
      ]
     },
     "metadata": {
      "needs_background": "light"
     },
     "output_type": "display_data"
    }
   ],
   "source": [
    "data.groupby('BR')['target'].count().plot.bar()\n",
    "plt.show()"
   ]
  },
  {
   "cell_type": "markdown",
   "metadata": {},
   "source": [
    "**It's important to deal with the rare labels**"
   ]
  },
  {
   "cell_type": "code",
   "execution_count": 87,
   "metadata": {},
   "outputs": [
    {
     "data": {
      "image/png": "[encoded data removed]",
      "text/plain": [
       "<Figure size 432x288 with 1 Axes>"
      ]
     },
     "metadata": {
      "needs_background": "light"
     },
     "output_type": "display_data"
    },
    {
     "data": {
      "image/png": "[encoded data removed]",
      "text/plain": [
       "<Figure size 432x288 with 1 Axes>"
      ]
     },
     "metadata": {
      "needs_background": "light"
     },
     "output_type": "display_data"
    },
    {
     "data": {
      "image/png": "[encoded data removed]",
      "text/plain": [
       "<Figure size 432x288 with 1 Axes>"
      ]
     },
     "metadata": {
      "needs_background": "light"
     },
     "output_type": "display_data"
    },
    {
     "data": {
      "image/png": "[encoded data removed]",
      "text/plain": [
       "<Figure size 432x288 with 1 Axes>"
      ]
     },
     "metadata": {
      "needs_background": "light"
     },
     "output_type": "display_data"
    }
   ],
   "source": [
    "def analyse_cat_variables(df, var):\n",
    "    df = df.copy()\n",
    "    \n",
    "    #plot\n",
    "    df.groupby(var)['target'].mean().plot.bar()\n",
    "    plt.show()\n",
    "    return None\n",
    "\n",
    "for var in cat_vars:\n",
    "    analyse_cat_variables(data, var)"
   ]
  },
  {
   "cell_type": "markdown",
   "metadata": {},
   "source": [
    "### Numerical Variables\n",
    "\n",
    "In this section we intend to explore:\n",
    "1. Temporal Variables (Ex: Year, Month)\n",
    "2. Discrete Variables (Numerical variables with finite number of values)\n",
    "3. Continuos Variables (Variables not temporal and not discrete)"
   ]
  },
  {
   "cell_type": "code",
   "execution_count": 93,
   "metadata": {},
   "outputs": [
    {
     "name": "stdout",
     "output_type": "stream",
     "text": [
      "Number of numerical variables:  6\n"
     ]
    },
    {
     "data": {
      "text/html": [
       "<div>\n",
       "<style scoped>\n",
       "    .dataframe tbody tr th:only-of-type {\n",
       "        vertical-align: middle;\n",
       "    }\n",
       "\n",
       "    .dataframe tbody tr th {\n",
       "        vertical-align: top;\n",
       "    }\n",
       "\n",
       "    .dataframe thead th {\n",
       "        text-align: right;\n",
       "    }\n",
       "</style>\n",
       "<table border=\"1\" class=\"dataframe\">\n",
       "  <thead>\n",
       "    <tr style=\"text-align: right;\">\n",
       "      <th></th>\n",
       "      <th>Anos atividade</th>\n",
       "      <th>Montante</th>\n",
       "      <th>Prazo</th>\n",
       "      <th># pmts pagas</th>\n",
       "      <th>Taxa ind.</th>\n",
       "      <th>Taxa med</th>\n",
       "    </tr>\n",
       "  </thead>\n",
       "  <tbody>\n",
       "    <tr>\n",
       "      <th>0</th>\n",
       "      <td>22</td>\n",
       "      <td>2500</td>\n",
       "      <td>6</td>\n",
       "      <td>6.0</td>\n",
       "      <td>0.032</td>\n",
       "      <td>0.034630</td>\n",
       "    </tr>\n",
       "    <tr>\n",
       "      <th>1</th>\n",
       "      <td>25</td>\n",
       "      <td>20000</td>\n",
       "      <td>36</td>\n",
       "      <td>25.0</td>\n",
       "      <td>0.049</td>\n",
       "      <td>0.049287</td>\n",
       "    </tr>\n",
       "    <tr>\n",
       "      <th>2</th>\n",
       "      <td>15</td>\n",
       "      <td>10000</td>\n",
       "      <td>24</td>\n",
       "      <td>24.0</td>\n",
       "      <td>0.046</td>\n",
       "      <td>0.048462</td>\n",
       "    </tr>\n",
       "    <tr>\n",
       "      <th>3</th>\n",
       "      <td>13</td>\n",
       "      <td>20000</td>\n",
       "      <td>48</td>\n",
       "      <td>48.0</td>\n",
       "      <td>0.042</td>\n",
       "      <td>0.044945</td>\n",
       "    </tr>\n",
       "    <tr>\n",
       "      <th>4</th>\n",
       "      <td>27</td>\n",
       "      <td>5000</td>\n",
       "      <td>6</td>\n",
       "      <td>6.0</td>\n",
       "      <td>0.087</td>\n",
       "      <td>0.088742</td>\n",
       "    </tr>\n",
       "  </tbody>\n",
       "</table>\n",
       "</div>"
      ],
      "text/plain": [
       "   Anos atividade  Montante  Prazo  # pmts pagas  Taxa ind.  Taxa med\n",
       "0              22      2500      6           6.0      0.032  0.034630\n",
       "1              25     20000     36          25.0      0.049  0.049287\n",
       "2              15     10000     24          24.0      0.046  0.048462\n",
       "3              13     20000     48          48.0      0.042  0.044945\n",
       "4              27      5000      6           6.0      0.087  0.088742"
      ]
     },
     "execution_count": 93,
     "metadata": {},
     "output_type": "execute_result"
    }
   ],
   "source": [
    "# list of numerical variables\n",
    "num_vars = [var for var in data.columns if data[var].dtypes != 'O' and var != 'target']\n",
    "print('Number of numerical variables: ', len(num_vars))\n",
    "\n",
    "# visualize the numerical variables\n",
    "data[num_vars].head()"
   ]
  },
  {
   "cell_type": "markdown",
   "metadata": {},
   "source": [
    "**Discrete Variables**"
   ]
  },
  {
   "cell_type": "code",
   "execution_count": 94,
   "metadata": {},
   "outputs": [
    {
     "name": "stdout",
     "output_type": "stream",
     "text": [
      "Number of discrete variables:  1\n"
     ]
    },
    {
     "data": {
      "text/html": [
       "<div>\n",
       "<style scoped>\n",
       "    .dataframe tbody tr th:only-of-type {\n",
       "        vertical-align: middle;\n",
       "    }\n",
       "\n",
       "    .dataframe tbody tr th {\n",
       "        vertical-align: top;\n",
       "    }\n",
       "\n",
       "    .dataframe thead th {\n",
       "        text-align: right;\n",
       "    }\n",
       "</style>\n",
       "<table border=\"1\" class=\"dataframe\">\n",
       "  <thead>\n",
       "    <tr style=\"text-align: right;\">\n",
       "      <th></th>\n",
       "      <th>Prazo</th>\n",
       "    </tr>\n",
       "  </thead>\n",
       "  <tbody>\n",
       "    <tr>\n",
       "      <th>0</th>\n",
       "      <td>6</td>\n",
       "    </tr>\n",
       "    <tr>\n",
       "      <th>1</th>\n",
       "      <td>36</td>\n",
       "    </tr>\n",
       "    <tr>\n",
       "      <th>2</th>\n",
       "      <td>24</td>\n",
       "    </tr>\n",
       "    <tr>\n",
       "      <th>3</th>\n",
       "      <td>48</td>\n",
       "    </tr>\n",
       "    <tr>\n",
       "      <th>4</th>\n",
       "      <td>6</td>\n",
       "    </tr>\n",
       "  </tbody>\n",
       "</table>\n",
       "</div>"
      ],
      "text/plain": [
       "   Prazo\n",
       "0      6\n",
       "1     36\n",
       "2     24\n",
       "3     48\n",
       "4      6"
      ]
     },
     "execution_count": 94,
     "metadata": {},
     "output_type": "execute_result"
    }
   ],
   "source": [
    "# list of discrete variables\n",
    "discrete_vars = [var for var in num_vars if len(data[var].unique())<20]\n",
    "print('Number of discrete variables: ', len(discrete_vars))\n",
    "\n",
    "# visualize the discrete variables\n",
    "data[discrete_vars].head()"
   ]
  },
  {
   "cell_type": "code",
   "execution_count": 92,
   "metadata": {},
   "outputs": [
    {
     "data": {
      "image/png": "[encoded data removed]",
      "text/plain": [
       "<Figure size 432x288 with 1 Axes>"
      ]
     },
     "metadata": {
      "needs_background": "light"
     },
     "output_type": "display_data"
    }
   ],
   "source": [
    "def analyse_discrete_vars(df, var):\n",
    "    df = df.copy()\n",
    "    \n",
    "    # plot\n",
    "    df.groupby(var)['target'].mean().plot.bar()\n",
    "    plt.title(var)\n",
    "    plt.show()\n",
    "\n",
    "for var in discrete_vars:\n",
    "    analyse_discrete_vars(data, var)"
   ]
  },
  {
   "cell_type": "markdown",
   "metadata": {},
   "source": [
    "**Continuos Variables**"
   ]
  },
  {
   "cell_type": "code",
   "execution_count": 95,
   "metadata": {},
   "outputs": [
    {
     "name": "stdout",
     "output_type": "stream",
     "text": [
      "Continuos variables:  5\n"
     ]
    },
    {
     "data": {
      "text/html": [
       "<div>\n",
       "<style scoped>\n",
       "    .dataframe tbody tr th:only-of-type {\n",
       "        vertical-align: middle;\n",
       "    }\n",
       "\n",
       "    .dataframe tbody tr th {\n",
       "        vertical-align: top;\n",
       "    }\n",
       "\n",
       "    .dataframe thead th {\n",
       "        text-align: right;\n",
       "    }\n",
       "</style>\n",
       "<table border=\"1\" class=\"dataframe\">\n",
       "  <thead>\n",
       "    <tr style=\"text-align: right;\">\n",
       "      <th></th>\n",
       "      <th>Anos atividade</th>\n",
       "      <th>Montante</th>\n",
       "      <th># pmts pagas</th>\n",
       "      <th>Taxa ind.</th>\n",
       "      <th>Taxa med</th>\n",
       "    </tr>\n",
       "  </thead>\n",
       "  <tbody>\n",
       "    <tr>\n",
       "      <th>0</th>\n",
       "      <td>22</td>\n",
       "      <td>2500</td>\n",
       "      <td>6.0</td>\n",
       "      <td>0.032</td>\n",
       "      <td>0.034630</td>\n",
       "    </tr>\n",
       "    <tr>\n",
       "      <th>1</th>\n",
       "      <td>25</td>\n",
       "      <td>20000</td>\n",
       "      <td>25.0</td>\n",
       "      <td>0.049</td>\n",
       "      <td>0.049287</td>\n",
       "    </tr>\n",
       "    <tr>\n",
       "      <th>2</th>\n",
       "      <td>15</td>\n",
       "      <td>10000</td>\n",
       "      <td>24.0</td>\n",
       "      <td>0.046</td>\n",
       "      <td>0.048462</td>\n",
       "    </tr>\n",
       "    <tr>\n",
       "      <th>3</th>\n",
       "      <td>13</td>\n",
       "      <td>20000</td>\n",
       "      <td>48.0</td>\n",
       "      <td>0.042</td>\n",
       "      <td>0.044945</td>\n",
       "    </tr>\n",
       "    <tr>\n",
       "      <th>4</th>\n",
       "      <td>27</td>\n",
       "      <td>5000</td>\n",
       "      <td>6.0</td>\n",
       "      <td>0.087</td>\n",
       "      <td>0.088742</td>\n",
       "    </tr>\n",
       "  </tbody>\n",
       "</table>\n",
       "</div>"
      ],
      "text/plain": [
       "   Anos atividade  Montante  # pmts pagas  Taxa ind.  Taxa med\n",
       "0              22      2500           6.0      0.032  0.034630\n",
       "1              25     20000          25.0      0.049  0.049287\n",
       "2              15     10000          24.0      0.046  0.048462\n",
       "3              13     20000          48.0      0.042  0.044945\n",
       "4              27      5000           6.0      0.087  0.088742"
      ]
     },
     "execution_count": 95,
     "metadata": {},
     "output_type": "execute_result"
    }
   ],
   "source": [
    "cont_vars = [var for var in num_vars if var not in discrete_vars]\n",
    "print('Continuos variables: ', len(cont_vars))\n",
    "\n",
    "data[cont_vars].head()"
   ]
  },
  {
   "cell_type": "code",
   "execution_count": 96,
   "metadata": {},
   "outputs": [
    {
     "data": {
      "image/png": "[encoded data removed]",
      "text/plain": [
       "<Figure size 432x288 with 1 Axes>"
      ]
     },
     "metadata": {
      "needs_background": "light"
     },
     "output_type": "display_data"
    },
    {
     "data": {
      "image/png": "[encoded data removed]",
      "text/plain": [
       "<Figure size 432x288 with 1 Axes>"
      ]
     },
     "metadata": {
      "needs_background": "light"
     },
     "output_type": "display_data"
    },
    {
     "data": {
      "image/png": "[encoded data removed]",
      "text/plain": [
       "<Figure size 432x288 with 1 Axes>"
      ]
     },
     "metadata": {
      "needs_background": "light"
     },
     "output_type": "display_data"
    },
    {
     "data": {
      "image/png": "[encoded data removed]",
      "text/plain": [
       "<Figure size 432x288 with 1 Axes>"
      ]
     },
     "metadata": {
      "needs_background": "light"
     },
     "output_type": "display_data"
    },
    {
     "data": {
      "image/png": "[encoded data removed]",
      "text/plain": [
       "<Figure size 432x288 with 1 Axes>"
      ]
     },
     "metadata": {
      "needs_background": "light"
     },
     "output_type": "display_data"
    }
   ],
   "source": [
    "def analyse_cont_vars(df, var):\n",
    "    df = df.copy()\n",
    "    df[var].hist(bins = 20)\n",
    "    plt.title(var)\n",
    "    plt.show()\n",
    "\n",
    "for var in cont_vars:\n",
    "    analyse_cont_vars(data, var)"
   ]
  },
  {
   "cell_type": "markdown",
   "metadata": {},
   "source": [
    "We see that all of the above variables, are not normally distributed. For linear models to perform best, we need to account for non-Gaussian distributions."
   ]
  },
  {
   "cell_type": "markdown",
   "metadata": {},
   "source": [
    "**Log Transformation**"
   ]
  },
  {
   "cell_type": "code",
   "execution_count": 97,
   "metadata": {},
   "outputs": [
    {
     "data": {
      "image/png": "[encoded data removed]",
      "text/plain": [
       "<Figure size 432x288 with 1 Axes>"
      ]
     },
     "metadata": {
      "needs_background": "light"
     },
     "output_type": "display_data"
    },
    {
     "data": {
      "image/png": "[encoded data removed]",
      "text/plain": [
       "<Figure size 432x288 with 1 Axes>"
      ]
     },
     "metadata": {
      "needs_background": "light"
     },
     "output_type": "display_data"
    },
    {
     "data": {
      "image/png": "[encoded data removed]",
      "text/plain": [
       "<Figure size 432x288 with 1 Axes>"
      ]
     },
     "metadata": {
      "needs_background": "light"
     },
     "output_type": "display_data"
    },
    {
     "data": {
      "image/png": "[encoded data removed]",
      "text/plain": [
       "<Figure size 432x288 with 1 Axes>"
      ]
     },
     "metadata": {
      "needs_background": "light"
     },
     "output_type": "display_data"
    }
   ],
   "source": [
    "# Analyze the distribution of transformed continuos variables\n",
    "def analyse_transformed_continuos(df, var):\n",
    "    df = df.copy()\n",
    "    \n",
    "    # log does not take negative values, so let's be careful and skip those variables\n",
    "    if 0 in data[var].unique():\n",
    "        pass\n",
    "    else:\n",
    "        # log transform the variable\n",
    "        df[var] = np.log(df[var])\n",
    "        df[var].hist(bins = 20)\n",
    "        plt.title(var)\n",
    "        plt.show()\n",
    "\n",
    "for var in cont_vars:\n",
    "    analyse_transformed_continuos(data, var)"
   ]
  },
  {
   "cell_type": "markdown",
   "metadata": {},
   "source": [
    "**Relationship between transformed variables and target variable**"
   ]
  },
  {
   "cell_type": "code",
   "execution_count": 98,
   "metadata": {},
   "outputs": [
    {
     "data": {
      "image/png": "[encoded data removed]",
      "text/plain": [
       "<Figure size 432x288 with 1 Axes>"
      ]
     },
     "metadata": {
      "needs_background": "light"
     },
     "output_type": "display_data"
    },
    {
     "data": {
      "image/png": "[encoded data removed]",
      "text/plain": [
       "<Figure size 432x288 with 1 Axes>"
      ]
     },
     "metadata": {
      "needs_background": "light"
     },
     "output_type": "display_data"
    },
    {
     "data": {
      "image/png": "[encoded data removed]",
      "text/plain": [
       "<Figure size 432x288 with 1 Axes>"
      ]
     },
     "metadata": {
      "needs_background": "light"
     },
     "output_type": "display_data"
    },
    {
     "data": {
      "image/png": "[encoded data removed]",
      "text/plain": [
       "<Figure size 432x288 with 1 Axes>"
      ]
     },
     "metadata": {
      "needs_background": "light"
     },
     "output_type": "display_data"
    }
   ],
   "source": [
    "# Analyze the distribution of transformed continuos variables\n",
    "def analyse_transformed_continuos(df, var):\n",
    "    df = df.copy()\n",
    "    \n",
    "    # log does not take negative values, so let's be careful and skip those variables\n",
    "    if 0 in data[var].unique():\n",
    "        pass\n",
    "    else:\n",
    "        # log transform the variable\n",
    "        df[var] = np.log(df[var])\n",
    "        sns.kdeplot(df.loc[df['target']==1, var], label = 'Default')\n",
    "        sns.kdeplot(df.loc[df['target']==0, var], label = 'Not Default')\n",
    "        plt.title(var)\n",
    "        plt.show()\n",
    "\n",
    "for var in cont_vars:\n",
    "    analyse_transformed_continuos(data, var)"
   ]
  },
  {
   "cell_type": "markdown",
   "metadata": {},
   "source": [
    "**Outliers**"
   ]
  },
  {
   "cell_type": "code",
   "execution_count": 99,
   "metadata": {},
   "outputs": [
    {
     "data": {
      "image/png": "[encoded data removed]",
      "text/plain": [
       "<Figure size 432x288 with 1 Axes>"
      ]
     },
     "metadata": {
      "needs_background": "light"
     },
     "output_type": "display_data"
    },
    {
     "data": {
      "image/png": "[encoded data removed]",
      "text/plain": [
       "<Figure size 432x288 with 1 Axes>"
      ]
     },
     "metadata": {
      "needs_background": "light"
     },
     "output_type": "display_data"
    },
    {
     "data": {
      "image/png": "[encoded data removed]",
      "text/plain": [
       "<Figure size 432x288 with 1 Axes>"
      ]
     },
     "metadata": {
      "needs_background": "light"
     },
     "output_type": "display_data"
    },
    {
     "data": {
      "image/png": "[encoded data removed]",
      "text/plain": [
       "<Figure size 432x288 with 1 Axes>"
      ]
     },
     "metadata": {
      "needs_background": "light"
     },
     "output_type": "display_data"
    }
   ],
   "source": [
    "def find_outliers(df, var):\n",
    "    df = df.copy()\n",
    "    \n",
    "    # log does not take negative values, so let's be careful and skip those variables\n",
    "    if 0 in data[var].unique():\n",
    "        pass\n",
    "    else:\n",
    "        df[var] = np.log(df[var])\n",
    "        df.boxplot(column=var)\n",
    "        plt.title(var)\n",
    "        plt.ylabel(var)\n",
    "        plt.show()\n",
    "\n",
    "for var in cont_vars:\n",
    "    find_outliers(data, var)"
   ]
  },
  {
   "cell_type": "markdown",
   "metadata": {},
   "source": [
    "The majority of the continuous variables seem to contain outliers. Outliers tend to affect the performance of linear model. So it is worth spending some time understanding if removing outliers will add performance value to our final machine learning model."
   ]
  },
  {
   "cell_type": "markdown",
   "metadata": {},
   "source": [
    "## Final conclusions\n",
    "\n",
    "- Balance the target variable\n",
    "- Convert the variable \"Estado\" to binary variable \"Target\"\n",
    "- Drop columns ['# Ordem','Estado','# ofertas']\n",
    "- Convert variable \"Taxa ind.\" from str to float\n",
    "- Treat rare labes on column \"BR\""
   ]
  },
  {
   "cell_type": "code",
   "execution_count": 3,
   "metadata": {},
   "outputs": [
    {
     "data": {
      "text/html": [
       "<div>\n",
       "<style scoped>\n",
       "    .dataframe tbody tr th:only-of-type {\n",
       "        vertical-align: middle;\n",
       "    }\n",
       "\n",
       "    .dataframe tbody tr th {\n",
       "        vertical-align: top;\n",
       "    }\n",
       "\n",
       "    .dataframe thead th {\n",
       "        text-align: right;\n",
       "    }\n",
       "</style>\n",
       "<table border=\"1\" class=\"dataframe\">\n",
       "  <thead>\n",
       "    <tr style=\"text-align: right;\">\n",
       "      <th></th>\n",
       "      <th># Ordem</th>\n",
       "      <th>Estado</th>\n",
       "      <th>Anos atividade</th>\n",
       "      <th>Região</th>\n",
       "      <th>Receitas</th>\n",
       "      <th>Ativos</th>\n",
       "      <th>Montante</th>\n",
       "      <th>BR</th>\n",
       "      <th>Prazo</th>\n",
       "      <th># pmts pagas</th>\n",
       "      <th>Taxa ind.</th>\n",
       "      <th>Taxa med</th>\n",
       "      <th># ofertas</th>\n",
       "    </tr>\n",
       "  </thead>\n",
       "  <tbody>\n",
       "    <tr>\n",
       "      <th>0</th>\n",
       "      <td>0001</td>\n",
       "      <td>Pago</td>\n",
       "      <td>22</td>\n",
       "      <td>Estremadura e Ribatejo</td>\n",
       "      <td>100,000 - 350,000</td>\n",
       "      <td>100,000 - 350,000</td>\n",
       "      <td>2500</td>\n",
       "      <td>A</td>\n",
       "      <td>6</td>\n",
       "      <td>6.0</td>\n",
       "      <td>0.032</td>\n",
       "      <td>0.034630</td>\n",
       "      <td>31</td>\n",
       "    </tr>\n",
       "    <tr>\n",
       "      <th>1</th>\n",
       "      <td>0002</td>\n",
       "      <td>Incobrável</td>\n",
       "      <td>25</td>\n",
       "      <td>Estremadura e Ribatejo</td>\n",
       "      <td>100,000 - 350,000</td>\n",
       "      <td>500,000-1,500,000</td>\n",
       "      <td>20000</td>\n",
       "      <td>B+</td>\n",
       "      <td>36</td>\n",
       "      <td>25.0</td>\n",
       "      <td>0.049</td>\n",
       "      <td>0.049287</td>\n",
       "      <td>33</td>\n",
       "    </tr>\n",
       "    <tr>\n",
       "      <th>2</th>\n",
       "      <td>0003</td>\n",
       "      <td>Pago</td>\n",
       "      <td>15</td>\n",
       "      <td>Estremadura e Ribatejo</td>\n",
       "      <td>100,000 - 350,000</td>\n",
       "      <td>100,000 - 350,000</td>\n",
       "      <td>10000</td>\n",
       "      <td>B+</td>\n",
       "      <td>24</td>\n",
       "      <td>24.0</td>\n",
       "      <td>0.046</td>\n",
       "      <td>0.048462</td>\n",
       "      <td>46</td>\n",
       "    </tr>\n",
       "    <tr>\n",
       "      <th>3</th>\n",
       "      <td>0004</td>\n",
       "      <td>Pago</td>\n",
       "      <td>13</td>\n",
       "      <td>Estremadura e Ribatejo</td>\n",
       "      <td>100,000 - 350,000</td>\n",
       "      <td>100,000 - 350,000</td>\n",
       "      <td>20000</td>\n",
       "      <td>A</td>\n",
       "      <td>48</td>\n",
       "      <td>48.0</td>\n",
       "      <td>0.042</td>\n",
       "      <td>0.044945</td>\n",
       "      <td>85</td>\n",
       "    </tr>\n",
       "    <tr>\n",
       "      <th>4</th>\n",
       "      <td>0005</td>\n",
       "      <td>Pago</td>\n",
       "      <td>27</td>\n",
       "      <td>Estremadura e Ribatejo</td>\n",
       "      <td>100,000 - 350,000</td>\n",
       "      <td>100,000 - 350,000</td>\n",
       "      <td>5000</td>\n",
       "      <td>C</td>\n",
       "      <td>6</td>\n",
       "      <td>6.0</td>\n",
       "      <td>0.087</td>\n",
       "      <td>0.088742</td>\n",
       "      <td>39</td>\n",
       "    </tr>\n",
       "  </tbody>\n",
       "</table>\n",
       "</div>"
      ],
      "text/plain": [
       "  # Ordem      Estado  Anos atividade                  Região  \\\n",
       "0    0001        Pago              22  Estremadura e Ribatejo   \n",
       "1    0002  Incobrável              25  Estremadura e Ribatejo   \n",
       "2    0003        Pago              15  Estremadura e Ribatejo   \n",
       "3    0004        Pago              13  Estremadura e Ribatejo   \n",
       "4    0005        Pago              27  Estremadura e Ribatejo   \n",
       "\n",
       "            Receitas             Ativos  Montante  BR  Prazo  # pmts pagas  \\\n",
       "0  100,000 - 350,000  100,000 - 350,000      2500   A      6           6.0   \n",
       "1  100,000 - 350,000  500,000-1,500,000     20000  B+     36          25.0   \n",
       "2  100,000 - 350,000  100,000 - 350,000     10000  B+     24          24.0   \n",
       "3  100,000 - 350,000  100,000 - 350,000     20000   A     48          48.0   \n",
       "4  100,000 - 350,000  100,000 - 350,000      5000   C      6           6.0   \n",
       "\n",
       "  Taxa ind.  Taxa med  # ofertas  \n",
       "0     0.032  0.034630         31  \n",
       "1     0.049  0.049287         33  \n",
       "2     0.046  0.048462         46  \n",
       "3     0.042  0.044945         85  \n",
       "4     0.087  0.088742         39  "
      ]
     },
     "execution_count": 3,
     "metadata": {},
     "output_type": "execute_result"
    }
   ],
   "source": [
    "data.head()"
   ]
  },
  {
   "cell_type": "code",
   "execution_count": 44,
   "metadata": {},
   "outputs": [],
   "source": [
    "X = data.drop(['target'], axis = 1)\n",
    "y = data.target"
   ]
  },
  {
   "cell_type": "code",
   "execution_count": 45,
   "metadata": {},
   "outputs": [
    {
     "name": "stdout",
     "output_type": "stream",
     "text": [
      "Classes in test set: {0: 993, 1: 23}\n",
      "Classes in rebalanced test set: {0: 993, 1: 993}\n"
     ]
    }
   ],
   "source": [
    "# dependent and independent variables\n",
    "X = data.drop(['target'], axis = 1)\n",
    "y = data.target\n",
    "\n",
    "# for handle imbalanced dataset by Oversampling\n",
    "from imblearn.over_sampling import RandomOverSampler\n",
    "ros = RandomOverSampler(random_state=88)\n",
    "\n",
    "# fit to data\n",
    "X_resampled, y_resampled = ros.fit_sample(X, y)\n",
    "\n",
    "# before balancing\n",
    "yvals, counts = np.unique(data['target'], return_counts=True)\n",
    "print('Classes in test set:',dict(zip(yvals, counts)))\n",
    "\n",
    "# after balancing\n",
    "yvals_ros, counts_ros = np.unique(y_resampled, return_counts=True)\n",
    "print('Classes in rebalanced test set:',dict(zip(yvals_ros, counts_ros)))"
   ]
  },
  {
   "cell_type": "code",
   "execution_count": 46,
   "metadata": {},
   "outputs": [],
   "source": [
    "def replace_categories(data, var, target):\n",
    "    ordered_labels = data.groupby([var])[target].mean().sort_values().index\n",
    "    ordinal_label = {k:i for i, k in enumerate(ordered_labels, 0)} \n",
    "    data[var] = data[var].map(ordinal_label)\n",
    "\n",
    "for var in cat_vars:\n",
    "    replace_categories(data, var, 'target')\n",
    "\n",
    "# dependent and independent variables\n",
    "data.dropna(inplace = True)\n",
    "X = data.drop(['target'], axis = 1)\n",
    "y = data.target"
   ]
  },
  {
   "cell_type": "code",
   "execution_count": 54,
   "metadata": {},
   "outputs": [
    {
     "name": "stdout",
     "output_type": "stream",
     "text": [
      "Classes in test set: {0: 971, 1: 23}\n",
      "Classes in rebalanced test set: {0: 971, 1: 971}\n"
     ]
    }
   ],
   "source": [
    "from imblearn.over_sampling import SMOTE\n",
    "\n",
    "# Resample the minority class. You can change the strategy to 'auto' if you are not sure.\n",
    "sm = SMOTE(sampling_strategy='minority', random_state=7)\n",
    "\n",
    "# Fit the model to generate the data.\n",
    "oversampled_trainX, oversampled_trainY = sm.fit_sample(X, y)\n",
    "\n",
    "# before balancing\n",
    "yvals, counts = np.unique(data['target'], return_counts=True)\n",
    "print('Classes in test set:',dict(zip(yvals, counts)))\n",
    "\n",
    "# after balancing\n",
    "yvals_ros, counts_ros = np.unique(oversampled_trainY, return_counts=True)\n",
    "print('Classes in rebalanced test set:',dict(zip(yvals_ros, counts_ros)))"
   ]
  },
  {
   "cell_type": "code",
   "execution_count": 56,
   "metadata": {},
   "outputs": [],
   "source": [
    "from imblearn.ensemble import BalancedBaggingClassifier\n",
    "from sklearn.tree import DecisionTreeClassifier\n",
    "\n",
    "#Create an object of the classifier.\n",
    "bbc = BalancedBaggingClassifier(base_estimator=DecisionTreeClassifier(),\n",
    "                                sampling_strategy='auto',\n",
    "                                replacement=False,\n",
    "                                random_state=0)\n",
    "\n",
    "data.dropna(inplace = True)\n",
    "X = data.drop(['target'], axis = 1)\n",
    "y = data.target\n",
    "\n",
    "#Train the classifier.\n",
    "bbc.fit(X, y)\n",
    "preds = bbc.predict(X)"
   ]
  },
  {
   "cell_type": "code",
   "execution_count": 64,
   "metadata": {},
   "outputs": [
    {
     "name": "stdout",
     "output_type": "stream",
     "text": [
      "0.9181256436663234\n"
     ]
    }
   ],
   "source": [
    "from sklearn.metrics import roc_auc_score, r2_score, confusion_matrix\n",
    "\n",
    "print(roc_auc_score(y, preds))"
   ]
  },
  {
   "cell_type": "code",
   "execution_count": 65,
   "metadata": {},
   "outputs": [
    {
     "data": {
      "image/png": "[encoded data removed]",
      "text/plain": [
       "<Figure size 432x288 with 2 Axes>"
      ]
     },
     "metadata": {
      "needs_background": "light"
     },
     "output_type": "display_data"
    }
   ],
   "source": [
    "sns.heatmap(confusion_matrix(y, preds), annot=True,fmt='2.0f')\n",
    "plt.xlabel('Predicted'); plt.ylabel('Actual'); plt.title('Confusion Matrix', y=1.05, size=15)\n",
    "plt.show()"
   ]
  }
 ],
 "metadata": {
  "kernelspec": {
   "display_name": "Python 3",
   "language": "python",
   "name": "python3"
  },
  "language_info": {
   "codemirror_mode": {
    "name": "ipython",
    "version": 3
   },
   "file_extension": ".py",
   "mimetype": "text/x-python",
   "name": "python",
   "nbconvert_exporter": "python",
   "pygments_lexer": "ipython3",
   "version": "3.6.4"
  }
 },
 "nbformat": 4,
 "nbformat_minor": 2
}
